{
 "cells": [
  {
   "cell_type": "code",
   "execution_count": 22,
   "id": "8d71f6ce",
   "metadata": {},
   "outputs": [],
   "source": [
    "import importlib\n",
    "import nirs4all.pipeline.generator as gen_module\n",
    "importlib.reload(gen_module)\n",
    "from nirs4all.pipeline.generator import expand_spec, count_combinations"
   ]
  },
  {
   "cell_type": "code",
   "execution_count": 7,
   "id": "7396353b",
   "metadata": {},
   "outputs": [
    {
     "name": "stdout",
     "output_type": "stream",
     "text": [
      "Number of combinations (24): 24\n"
     ]
    }
   ],
   "source": [
    "pipeline_config = [\n",
    "        {\"_or_\": [None, \"A\", \"B\"]},  # scale the features\n",
    "        [\n",
    "            {\"_or_\": [\"a\", \"b\"]},\n",
    "            None,\n",
    "            [{\"_or_\": [\"1\", \"2\"]}, {\"_or_\": [\"x\", \"y\"]}],\n",
    "        ]\n",
    "    ]\n",
    "\n",
    "results = expand_spec(pipeline_config)\n",
    "print(f\"Number of combinations (24): {len(results)}\")\n",
    "# for i, cfg in enumerate(results):\n",
    "    # print(f\"  {i+1}: {cfg}\")"
   ]
  },
  {
   "cell_type": "code",
   "execution_count": 8,
   "id": "edaf63eb",
   "metadata": {},
   "outputs": [
    {
     "name": "stdout",
     "output_type": "stream",
     "text": [
      "Number of combinations (40): 40\n"
     ]
    }
   ],
   "source": [
    "pipeline_config_with_size = [\n",
    "        {\"_or_\": [None, \"A\", \"B\", \"C\", \"D\"], \"size\": 4},  # scale the features\n",
    "        [\n",
    "            {\"_or_\": [\"a\", \"b\"]},\n",
    "            None,\n",
    "            [{\"_or_\": [\"1\", \"2\"]}, {\"_or_\": [\"x\", \"y\"]}],\n",
    "        ]\n",
    "    ]\n",
    "\n",
    "results_with_size = expand_spec(pipeline_config_with_size)\n",
    "# print(f\"Expected: C(5,3) = 10 c(5,4) = 5\")\n",
    "print(f\"Number of combinations (40): {len(results_with_size)}\")\n",
    "# for i, cfg in enumerate(results_with_size):\n",
    "    # print(f\"  {i+1}: {cfg}\")"
   ]
  },
  {
   "cell_type": "code",
   "execution_count": 9,
   "id": "d61955ca",
   "metadata": {},
   "outputs": [
    {
     "name": "stdout",
     "output_type": "stream",
     "text": [
      "Number of combinations (48): 48\n"
     ]
    }
   ],
   "source": [
    "pipeline_config_with_tuple_size = [\n",
    "        {\"_or_\": [None, \"A\", \"B\", \"C\", \"D\"], \"size\": (4, 5)},  # scale the features\n",
    "        [\n",
    "            {\"_or_\": [\"a\", \"b\"]},\n",
    "            None,\n",
    "            [{\"_or_\": [\"1\", \"2\"]}, {\"_or_\": [\"x\", \"y\"]}],\n",
    "        ]\n",
    "    ]\n",
    "\n",
    "results_with_tuple_size = expand_spec(pipeline_config_with_tuple_size)\n",
    "# print(f\"Expected: C(5,3) + C(5,4) + C(5,5) = 10 + 5 + 1 = 16 combinations (before multiplying by other expansions)\")\n",
    "print(f\"Number of combinations (48): {len(results_with_tuple_size)}\")\n",
    "# for i, cfg in enumerate(results_with_tuple_size):\n",
    "    # print(f\"  {i+1}: {cfg}\")"
   ]
  },
  {
   "cell_type": "code",
   "execution_count": 10,
   "id": "82c77796",
   "metadata": {},
   "outputs": [
    {
     "name": "stdout",
     "output_type": "stream",
     "text": [
      "Number of combinations: 9\n",
      "Number of combinations: 25\n"
     ]
    }
   ],
   "source": [
    "pipeline_config_with_tuple_size = [\n",
    "        {\"_or_\": [None, \"A\", \"B\", \"C\", {\"_or_\": [\"a\", \"b\"]}], \"size\": 4},  # scale the features\n",
    "    ]\n",
    "results_with_tuple_size = expand_spec(pipeline_config_with_tuple_size)\n",
    "print(f\"Number of combinations: {len(results_with_tuple_size)}\")\n",
    "# for i, cfg in enumerate(results_with_tuple_size):\n",
    "    # print(f\"  {i+1}: {cfg}\")\n",
    "\n",
    "pipeline_config_with_tuple_size = [\n",
    "        {\"_or_\": [None, \"A\", \"B\", \"C\", {\"_or_\": [\"a\", \"b\"]}], \"size\": (3, 4)},  # scale the features\n",
    "    ]\n",
    "results_with_tuple_size = expand_spec(pipeline_config_with_tuple_size)\n",
    "print(f\"Number of combinations: {len(results_with_tuple_size)}\")\n",
    "# for i, cfg in enumerate(results_with_tuple_size):\n",
    "    # print(f\"  {i+1}: {cfg}\")"
   ]
  },
  {
   "cell_type": "code",
   "execution_count": 11,
   "id": "e87b3495",
   "metadata": {},
   "outputs": [
    {
     "name": "stdout",
     "output_type": "stream",
     "text": [
      "['A']\n",
      "['B']\n",
      "['C']\n",
      "['A', 'B']\n",
      "['A', 'C']\n",
      "['B', 'C']\n",
      "['A', 'B', 'C']\n",
      "['A']\n",
      "['B']\n",
      "['C']\n"
     ]
    }
   ],
   "source": [
    "p = [{\"_or_\": [\"A\", \"B\", \"C\"], \"size\": (1, 3)}]\n",
    "r = expand_spec(p)\n",
    "for item in r:\n",
    "    print(item)\n",
    "\n",
    "p = [{\"_or_\": [\"A\", \"B\", \"C\"]}]\n",
    "r = expand_spec(p)\n",
    "for item in r:\n",
    "    print(item)"
   ]
  },
  {
   "cell_type": "code",
   "execution_count": 12,
   "id": "8630dc4d",
   "metadata": {},
   "outputs": [
    {
     "name": "stdout",
     "output_type": "stream",
     "text": [
      "Second-order [2, 2] results: 15\n",
      "  1: [['A', 'B'], ['A', 'C']]\n",
      "  2: [['A', 'B'], ['B', 'A']]\n",
      "  3: [['A', 'B'], ['B', 'C']]\n",
      "  4: [['A', 'B'], ['C', 'A']]\n",
      "  5: [['A', 'B'], ['C', 'B']]\n",
      "  6: [['A', 'C'], ['B', 'A']]\n",
      "  7: [['A', 'C'], ['B', 'C']]\n",
      "  8: [['A', 'C'], ['C', 'A']]\n",
      "  9: [['A', 'C'], ['C', 'B']]\n",
      "  10: [['B', 'A'], ['B', 'C']]\n",
      "  11: [['B', 'A'], ['C', 'A']]\n",
      "  12: [['B', 'A'], ['C', 'B']]\n",
      "  13: [['B', 'C'], ['C', 'A']]\n",
      "  14: [['B', 'C'], ['C', 'B']]\n",
      "  15: [['C', 'A'], ['C', 'B']]\n"
     ]
    }
   ],
   "source": [
    "# Second-order combinations: [outer, inner] where inner uses permutations\n",
    "config = [{\"_or_\": [\"A\", \"B\", \"C\"], \"size\": [2, 2]}]  # outer=2, inner=2\n",
    "results = expand_spec(config)\n",
    "\n",
    "print(f\"Second-order [2, 2] results: {len(results)}\")\n",
    "for i, result in enumerate(results):\n",
    "    print(f\"  {i+1}: {result}\")\n",
    "# Expected: Inner permutations like ['A','B'] and ['B','A'] are different"
   ]
  },
  {
   "cell_type": "code",
   "execution_count": 13,
   "id": "8d4e2dcf",
   "metadata": {},
   "outputs": [
    {
     "name": "stdout",
     "output_type": "stream",
     "text": [
      "First-order size=2:\n",
      "  1: ['A', 'B']\n",
      "\n",
      "Second-order [1, 2]:\n",
      "  1: [['A', 'B']]\n",
      "  2: [['B', 'A']]\n"
     ]
    }
   ],
   "source": [
    "# Compare first-order vs second-order\n",
    "choices = [\"A\", \"B\"]\n",
    "\n",
    "# First-order: combinations (order doesn't matter)\n",
    "config1 = [{\"_or_\": choices, \"size\": 2}]\n",
    "results1 = expand_spec(config1)\n",
    "print(\"First-order size=2:\")\n",
    "for i, result in enumerate(results1):\n",
    "    print(f\"  {i+1}: {result}\")\n",
    "\n",
    "# Second-order: permutations within inner (order matters)\n",
    "config2 = [{\"_or_\": choices, \"size\": [1, 2]}]  # outer=1, inner=2\n",
    "results2 = expand_spec(config2)\n",
    "print(f\"\\nSecond-order [1, 2]:\")\n",
    "for i, result in enumerate(results2):\n",
    "    print(f\"  {i+1}: {result}\")\n",
    "# Expected: Both ['A','B'] and ['B','A'] appear"
   ]
  },
  {
   "cell_type": "code",
   "execution_count": 14,
   "id": "7f77547c",
   "metadata": {},
   "outputs": [
    {
     "name": "stdout",
     "output_type": "stream",
     "text": [
      "Testing inner permutations:\n",
      "  1: [['A', 'B']]\n",
      "  2: [['A', 'C']]\n",
      "  3: [['B', 'A']]\n",
      "  4: [['B', 'C']]\n",
      "  5: [['C', 'A']]\n",
      "  6: [['C', 'B']]\n",
      "  7: [['A', 'B'], ['A', 'C']]\n",
      "  8: [['A', 'B'], ['B', 'A']]\n",
      "  9: [['A', 'B'], ['B', 'C']]\n",
      "  10: [['A', 'B'], ['C', 'A']]\n",
      "  11: [['A', 'B'], ['C', 'B']]\n",
      "  12: [['A', 'C'], ['B', 'A']]\n",
      "  13: [['A', 'C'], ['B', 'C']]\n",
      "  14: [['A', 'C'], ['C', 'A']]\n",
      "  15: [['A', 'C'], ['C', 'B']]\n",
      "  16: [['B', 'A'], ['B', 'C']]\n",
      "  17: [['B', 'A'], ['C', 'A']]\n",
      "  18: [['B', 'A'], ['C', 'B']]\n",
      "  19: [['B', 'C'], ['C', 'A']]\n",
      "  20: [['B', 'C'], ['C', 'B']]\n",
      "  21: [['C', 'A'], ['C', 'B']]\n"
     ]
    }
   ],
   "source": [
    "# Test inner permutations: [A, [B,C]] != [A, [C,B]]\n",
    "config = [{\"_or_\": [\"A\", \"B\", \"C\"], \"size\": [(1,2), 2]}]\n",
    "results = expand_spec(config)\n",
    "\n",
    "print(\"Testing inner permutations:\")\n",
    "for i, result in enumerate(results):\n",
    "    print(f\"  {i+1}: {result}\")\n",
    "# Expected: Different orderings within sub-arrays"
   ]
  },
  {
   "cell_type": "code",
   "execution_count": 15,
   "id": "307a0abb",
   "metadata": {},
   "outputs": [
    {
     "name": "stdout",
     "output_type": "stream",
     "text": [
      "Basic or    :    3 combinations\n",
      "Size        :    6 combinations\n",
      "Size range  :   10 combinations\n",
      "Second-order:   15 combinations\n",
      "With count  :    5 combinations\n"
     ]
    }
   ],
   "source": [
    "# Summary of all features\n",
    "examples = [\n",
    "    (\"Basic or\", [{\"_or_\": [\"A\", \"B\", \"C\"]}]),\n",
    "    (\"Size\", [{\"_or_\": [\"A\", \"B\", \"C\", \"D\"], \"size\": 2}]),\n",
    "    (\"Size range\", [{\"_or_\": [\"A\", \"B\", \"C\", \"D\"], \"size\": (2, 3)}]),\n",
    "    (\"Second-order\", [{\"_or_\": [\"A\", \"B\", \"C\"], \"size\": [2, 2]}]),\n",
    "    (\"With count\", [{\"_or_\": [\"A\", \"B\", \"C\", \"D\"], \"size\": (2, 3), \"count\": 5}]),\n",
    "]\n",
    "\n",
    "for name, config in examples:\n",
    "    result = expand_spec(config)\n",
    "    print(f\"{name:12}: {len(result):4} combinations\")"
   ]
  },
  {
   "cell_type": "code",
   "execution_count": 16,
   "id": "b8d254de",
   "metadata": {},
   "outputs": [
    {
     "name": "stdout",
     "output_type": "stream",
     "text": [
      "Random 5 combinations from size (2,3):\n",
      "  1: ['A', 'C']\n",
      "  2: ['A', 'D']\n",
      "  3: ['A', 'B', 'C']\n",
      "  4: ['B', 'C']\n",
      "  5: ['A', 'B']\n"
     ]
    }
   ],
   "source": [
    "# Count feature: random sampling\n",
    "config = [{\"_or_\": [\"A\", \"B\", \"C\", \"D\"], \"size\": (2, 3), \"count\": 5}]\n",
    "results = expand_spec(config)\n",
    "\n",
    "print(\"Random 5 combinations from size (2,3):\")\n",
    "for i, result in enumerate(results):\n",
    "    print(f\"  {i+1}: {result}\")\n",
    "# Expected: Random 5 from total 16 combinations"
   ]
  },
  {
   "cell_type": "code",
   "execution_count": 17,
   "id": "6f9fca2e",
   "metadata": {},
   "outputs": [
    {
     "name": "stdout",
     "output_type": "stream",
     "text": [
      "Second-order [2, 2] with count=4:\n",
      "  1: [['A', 'B'], ['B', 'C']]\n",
      "  2: [['B', 'A'], ['C', 'A']]\n",
      "  3: [['B', 'A'], ['B', 'D']]\n",
      "  4: [['A', 'C'], ['B', 'D']]\n"
     ]
    }
   ],
   "source": [
    "# Second-order with count\n",
    "config = [{\"_or_\": [\"A\", \"B\", \"C\", \"D\"], \"size\": [2, 2], \"count\": 4}]\n",
    "results = expand_spec(config)\n",
    "\n",
    "print(\"Second-order [2, 2] with count=4:\")\n",
    "for i, result in enumerate(results):\n",
    "    print(f\"  {i+1}: {result}\")\n",
    "# Expected: Random 4 from many permutation-based combinations"
   ]
  },
  {
   "cell_type": "code",
   "execution_count": 18,
   "id": "ed664141",
   "metadata": {},
   "outputs": [
    {
     "name": "stdout",
     "output_type": "stream",
     "text": [
      "41664 results\n"
     ]
    },
    {
     "ename": "NameError",
     "evalue": "name 'random' is not defined",
     "output_type": "error",
     "traceback": [
      "\u001b[1;31m---------------------------------------------------------------------------\u001b[0m",
      "\u001b[1;31mNameError\u001b[0m                                 Traceback (most recent call last)",
      "Cell \u001b[1;32mIn[18], line 7\u001b[0m\n\u001b[0;32m      5\u001b[0m \u001b[38;5;28mprint\u001b[39m(\u001b[38;5;28mlen\u001b[39m(results), \u001b[38;5;124m\"\u001b[39m\u001b[38;5;124mresults\u001b[39m\u001b[38;5;124m\"\u001b[39m)\n\u001b[0;32m      6\u001b[0m \u001b[38;5;66;03m# print 10 random results\u001b[39;00m\n\u001b[1;32m----> 7\u001b[0m \u001b[38;5;28;01mfor\u001b[39;00m i, result \u001b[38;5;129;01min\u001b[39;00m \u001b[38;5;28menumerate\u001b[39m(\u001b[43mrandom\u001b[49m\u001b[38;5;241m.\u001b[39msample(results, \u001b[38;5;28mmin\u001b[39m(\u001b[38;5;241m10\u001b[39m, \u001b[38;5;28mlen\u001b[39m(results)))):\n\u001b[0;32m      8\u001b[0m     \u001b[38;5;28mprint\u001b[39m(\u001b[38;5;124mf\u001b[39m\u001b[38;5;124m\"\u001b[39m\u001b[38;5;124m  \u001b[39m\u001b[38;5;132;01m{\u001b[39;00mi\u001b[38;5;241m+\u001b[39m\u001b[38;5;241m1\u001b[39m\u001b[38;5;132;01m}\u001b[39;00m\u001b[38;5;124m: \u001b[39m\u001b[38;5;132;01m{\u001b[39;00mresult\u001b[38;5;132;01m}\u001b[39;00m\u001b[38;5;124m\"\u001b[39m)\n\u001b[0;32m     10\u001b[0m \u001b[38;5;66;03m# for i, result in enumerate(results):\u001b[39;00m\n\u001b[0;32m     11\u001b[0m     \u001b[38;5;66;03m# print(f\"  {i+1}: {result}\")\u001b[39;00m\n\u001b[0;32m     12\u001b[0m \u001b[38;5;66;03m# Expected: Random 4 from many permutation-based combinations\u001b[39;00m\n",
      "\u001b[1;31mNameError\u001b[0m: name 'random' is not defined"
     ]
    }
   ],
   "source": [
    "# Second-order with count\n",
    "config = [{\"_or_\": [\"A\", \"B\", \"C\", \"D\"], \"size\": [3, (1,4)]}]#, \"count\": 4}]\n",
    "results = expand_spec(config)\n",
    "\n",
    "print(len(results), \"results\")\n",
    "# print 10 random results\n",
    "for i, result in enumerate(random.sample(results, min(10, len(results)))):\n",
    "    print(f\"  {i+1}: {result}\")\n",
    "\n",
    "# for i, result in enumerate(results):\n",
    "    # print(f\"  {i+1}: {result}\")\n",
    "# Expected: Random 4 from many permutation-based combinations"
   ]
  },
  {
   "cell_type": "markdown",
   "id": "ed705e9c",
   "metadata": {},
   "source": [
    "## ✅ FINAL SYNTAX REFERENCE\n",
    "\n",
    "### Basic Features:\n",
    "- `{\"or\": [\"A\", \"B\", \"C\"]}` → All choices\n",
    "- `{\"or\": [\"A\", \"B\", \"C\"], \"size\": 2}` → Combinations of size 2  \n",
    "- `{\"or\": [\"A\", \"B\", \"C\"], \"size\": (1, 3)}` → Combinations of size 1 to 3\n",
    "- `{\"or\": [\"A\", \"B\", \"C\"], \"count\": 5}` → Random 5 choices\n",
    "\n",
    "### Second-Order (Array Syntax):\n",
    "- `{\"or\": [\"A\", \"B\", \"C\"], \"size\": [outer, inner]}`\n",
    "- **Inner**: Uses **permutations** (order matters within sub-arrays)  \n",
    "- **Outer**: Uses **combinations** (order doesn't matter for selection)\n",
    "- **Key**: `['A', 'B']` ≠ `['B', 'A']` within inner arrays\n",
    "\n",
    "### Examples:\n",
    "- `[2, 2]`: Select 2 arrangements of 2 elements each\n",
    "- `[(1,3), 2]`: Select 1-3 arrangements of exactly 2 elements  \n",
    "- `[2, (1,3)]`: Select exactly 2 arrangements of 1-3 elements\n",
    "- `[2, 2, \"count\": 4]`: Random 4 from all second-order combinations"
   ]
  },
  {
   "cell_type": "code",
   "execution_count": null,
   "id": "0719c372",
   "metadata": {},
   "outputs": [],
   "source": [
    "config = [\n",
    "    # {\"_or_\": [\"MinmaxScaler\", \"StandardScaler\"]},\n",
    "    # {\"y\": {\"_or_\": [\"MinmaxScaler\", \"RobustScaler\"]}},\n",
    "    {\n",
    "        \"feature\":[\n",
    "            {\"_or_\": [\"detrend\", \"savgol\", \"snv\", \"msc\", \"haar\", \"gaussian\",\"derivate\",\"gauss2\",\"acp\"], \"size\": [(1, 7),(1,3)]}\n",
    "        ]\n",
    "    }\n",
    "]\n",
    "\n",
    "count = count_combinations(config)\n",
    "print(count)"
   ]
  },
  {
   "cell_type": "code",
   "execution_count": null,
   "id": "5a13759f",
   "metadata": {},
   "outputs": [],
   "source": [
    "# Test the counting function vs actual generation\n",
    "test_configs = [\n",
    "    (\"Basic OR\", [{\"_or_\": [\"A\", \"B\", \"C\"]}]),\n",
    "    (\"Size 2\", [{\"_or_\": [\"A\", \"B\", \"C\", \"D\"], \"size\": 2}]),\n",
    "    (\"Size range\", [{\"_or_\": [\"A\", \"B\", \"C\", \"D\"], \"size\": (2, 3)}]),\n",
    "    (\"Second-order\", [{\"_or_\": [\"A\", \"B\", \"C\"], \"size\": [2, 2]}]),\n",
    "    (\"With count\", [{\"_or_\": [\"A\", \"B\", \"C\", \"D\"], \"size\": (2, 3), \"count\": 5}]),\n",
    "]\n",
    "\n",
    "print(\"Configuration Counting vs Actual Generation:\")\n",
    "print(\"=\" * 50)\n",
    "for name, config in test_configs:\n",
    "    # Count without generating\n",
    "    estimated_count = count_combinations(config)\n",
    "\n",
    "    # Actually generate to verify\n",
    "    actual_results = expand_spec(config)\n",
    "    actual_count = len(actual_results)\n",
    "\n",
    "    match = \"✅\" if estimated_count == actual_count else \"❌\"\n",
    "    print(f\"{name:12}: Estimated {estimated_count:4}, Actual {actual_count:4} {match}\")\n",
    "\n",
    "# Test large configuration without actually generating\n",
    "print(f\"\\nLarge configuration analysis:\")\n",
    "large_config = [{\"_or_\": [\"A\", \"B\", \"C\", \"D\", \"E\"], \"size\": [(1, 4), (1, 3)]}]\n",
    "estimated = count_combinations(large_config)\n",
    "print(f\"Estimated combinations: {estimated:,}\")\n",
    "print(f\"(Would be expensive to generate all {estimated:,} combinations!)\")"
   ]
  },
  {
   "cell_type": "code",
   "execution_count": null,
   "id": "67d64aa6",
   "metadata": {},
   "outputs": [],
   "source": [
    "# Quick utility: estimate before generating\n",
    "def estimate_and_generate(config, max_safe=1000):\n",
    "    \"\"\"Estimate count and conditionally generate based on safety threshold.\"\"\"\n",
    "    estimated = count_combinations(config)\n",
    "\n",
    "    print(f\"Estimated combinations: {estimated:,}\")\n",
    "\n",
    "    if estimated <= max_safe:\n",
    "        print(\"✅ Safe to generate - proceeding...\")\n",
    "        results = expand_spec(config)\n",
    "        print(f\"Generated {len(results)} results\")\n",
    "        return results\n",
    "    else:\n",
    "        print(f\"⚠️  Large space detected! Consider adding 'count' limit.\")\n",
    "        print(f\"   Recommend: add '\\\"count\\\": {max_safe}' to sample randomly\")\n",
    "        return None\n",
    "\n",
    "# Example usage\n",
    "print(\"🔍 Smart generation with safety check:\")\n",
    "safe_config = [{\"_or_\": [\"A\", \"B\", \"C\"], \"size\": 2}]\n",
    "results = estimate_and_generate(safe_config)\n",
    "\n",
    "print(f\"\\n🚨 Large configuration example:\")\n",
    "large_config = [{\"_or_\": [\"A\", \"B\", \"C\", \"D\", \"E\"], \"size\": [(1, 4), (1, 3)]}]\n",
    "estimate_and_generate(large_config, max_safe=100)"
   ]
  },
  {
   "cell_type": "markdown",
   "id": "cc960cde",
   "metadata": {},
   "source": [
    "# 🆕 Testing _range_ Feature\n",
    "\n",
    "Testing the new `_range_` keyword for numeric sequences with both array and dictionary syntax."
   ]
  },
  {
   "cell_type": "code",
   "execution_count": 23,
   "id": "f1325c24",
   "metadata": {},
   "outputs": [
    {
     "name": "stdout",
     "output_type": "stream",
     "text": [
      "🔧 Test 1: Array syntax\n",
      "Range [1, 5]: [[1], [2], [3], [4], [5]]\n",
      "Range [0, 10, 2]: [[0], [2], [4], [6], [8], [10]]\n",
      "Range [10, 1, -2]: [[10], [8], [6], [4], [2]]\n",
      "✅ Array syntax tests completed\n"
     ]
    }
   ],
   "source": [
    "# Test 1: Basic array syntax [from, to] and [from, to, step]\n",
    "print(\"🔧 Test 1: Array syntax\")\n",
    "\n",
    "# Basic range with default step=1\n",
    "config1 = [{\"_range_\": [1, 5]}]\n",
    "results1 = expand_spec(config1)\n",
    "print(f\"Range [1, 5]: {results1}\")\n",
    "\n",
    "# Range with custom step\n",
    "config2 = [{\"_range_\": [0, 10, 2]}]\n",
    "results2 = expand_spec(config2)\n",
    "print(f\"Range [0, 10, 2]: {results2}\")\n",
    "\n",
    "# Negative step (descending)\n",
    "config3 = [{\"_range_\": [10, 1, -2]}]\n",
    "results3 = expand_spec(config3)\n",
    "print(f\"Range [10, 1, -2]: {results3}\")\n",
    "\n",
    "print(f\"✅ Array syntax tests completed\")"
   ]
  },
  {
   "cell_type": "code",
   "execution_count": null,
   "id": "974956f2",
   "metadata": {},
   "outputs": [],
   "source": [
    "# Test 2: Dictionary syntax with from/to/step\n",
    "print(\"🔧 Test 2: Dictionary syntax\")\n",
    "\n",
    "# Basic range with dictionary syntax\n",
    "config1 = [{\"_range_\": {\"from\": 1, \"to\": 5}}]\n",
    "results1 = expand_spec(config1)\n",
    "print(f\"Range dict {{\\\"from\\\": 1, \\\"to\\\": 5}}: {results1}\")\n",
    "\n",
    "# Range with custom step using dict\n",
    "config2 = [{\"_range_\": {\"from\": 0, \"to\": 20, \"step\": 5}}]\n",
    "results2 = expand_spec(config2)\n",
    "print(f\"Range dict {{\\\"from\\\": 0, \\\"to\\\": 20, \\\"step\\\": 5}}: {results2}\")\n",
    "\n",
    "# Mixed with count sampling\n",
    "config3 = [{\"_range_\": {\"from\": 1, \"to\": 100, \"step\": 7}, \"count\": 5}]\n",
    "results3 = expand_spec(config3)\n",
    "print(f\"Range with count=5: {results3} (random 5 from 1 to 100 step 7)\")\n",
    "\n",
    "print(f\"✅ Dictionary syntax tests completed\")"
   ]
  },
  {
   "cell_type": "code",
   "execution_count": 24,
   "id": "776ffb3c",
   "metadata": {},
   "outputs": [
    {
     "name": "stdout",
     "output_type": "stream",
     "text": [
      "🔧 Test 3: Combining _range_ with _or_ and complex structures\n",
      "Complex combination count: 18\n",
      "Sample results:\n",
      "  1: ['A', {'param': 1}, 10]\n",
      "  2: ['A', {'param': 1}, 11]\n",
      "  3: ['A', {'param': 1}, 12]\n",
      "  4: ['A', {'param': 2}, 10]\n",
      "Estimated: 18, Actual: 18 (✅)\n",
      "\n",
      "Model params combinations: 15\n",
      "  1: {'model_params': {'n_estimators': 10, 'max_depth': 3}}\n",
      "  2: {'model_params': {'n_estimators': 10, 'max_depth': 5}}\n",
      "  3: {'model_params': {'n_estimators': 10, 'max_depth': 7}}\n",
      "  4: {'model_params': {'n_estimators': 20, 'max_depth': 3}}\n",
      "  5: {'model_params': {'n_estimators': 20, 'max_depth': 5}}\n",
      "  6: {'model_params': {'n_estimators': 20, 'max_depth': 7}}\n",
      "  7: {'model_params': {'n_estimators': 30, 'max_depth': 3}}\n",
      "  8: {'model_params': {'n_estimators': 30, 'max_depth': 5}}\n",
      "  9: {'model_params': {'n_estimators': 30, 'max_depth': 7}}\n",
      "  10: {'model_params': {'n_estimators': 40, 'max_depth': 3}}\n",
      "  11: {'model_params': {'n_estimators': 40, 'max_depth': 5}}\n",
      "  12: {'model_params': {'n_estimators': 40, 'max_depth': 7}}\n",
      "  13: {'model_params': {'n_estimators': 50, 'max_depth': 3}}\n",
      "  14: {'model_params': {'n_estimators': 50, 'max_depth': 5}}\n",
      "  15: {'model_params': {'n_estimators': 50, 'max_depth': 7}}\n",
      "✅ Complex combination tests completed\n"
     ]
    }
   ],
   "source": [
    "# Test 3: Combinations with other features\n",
    "print(\"🔧 Test 3: Combining _range_ with _or_ and complex structures\")\n",
    "\n",
    "# Combine range with OR choices\n",
    "config1 = [\n",
    "    {\"_or_\": [\"A\", \"B\"]},\n",
    "    {\"param\": {\"_range_\": [1, 3]}},\n",
    "    {\"_range_\": [10, 12]}\n",
    "]\n",
    "results1 = expand_spec(config1)\n",
    "print(f\"Complex combination count: {len(results1)}\")\n",
    "print(\"Sample results:\")\n",
    "for i, result in enumerate(results1[:4]):  # Show first 4\n",
    "    print(f\"  {i+1}: {result}\")\n",
    "\n",
    "# Use counting to verify\n",
    "estimated_count = count_combinations(config1)\n",
    "print(f\"Estimated: {estimated_count}, Actual: {len(results1)} ({'✅' if estimated_count == len(results1) else '❌'})\")\n",
    "\n",
    "# Range in value position with other constraints\n",
    "config2 = {\n",
    "    \"model_params\": {\n",
    "        \"n_estimators\": {\"_range_\": [10, 50, 10]},\n",
    "        \"max_depth\": {\"_or_\": [3, 5, 7]}\n",
    "    }\n",
    "}\n",
    "results2 = expand_spec(config2)\n",
    "print(f\"\\nModel params combinations: {len(results2)}\")\n",
    "for i, result in enumerate(results2):\n",
    "    print(f\"  {i+1}: {result}\")\n",
    "\n",
    "print(f\"✅ Complex combination tests completed\")"
   ]
  }
 ],
 "metadata": {
  "kernelspec": {
   "display_name": "Python 3",
   "language": "python",
   "name": "python3"
  },
  "language_info": {
   "codemirror_mode": {
    "name": "ipython",
    "version": 3
   },
   "file_extension": ".py",
   "mimetype": "text/x-python",
   "name": "python",
   "nbconvert_exporter": "python",
   "pygments_lexer": "ipython3",
   "version": "3.10.11"
  }
 },
 "nbformat": 4,
 "nbformat_minor": 5
}
