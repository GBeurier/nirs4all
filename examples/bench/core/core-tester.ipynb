{
 "cells": [
  {
   "cell_type": "code",
   "execution_count": 32,
   "id": "cdd62d8b",
   "metadata": {},
   "outputs": [],
   "source": [
    "from sklearn.preprocessing import MinMaxScaler, StandardScaler\n",
    "from nirs4all.transformations import StandardNormalVariate as SNV, SavitzkyGolay as SG, Gaussian as GS\n",
    "from nirs4all.transformations import Rotate_Translate as RT\n",
    "\n",
    "from sklearn.cluster import KMeans\n",
    "from sklearn.ensemble import RandomForestClassifier, GradientBoostingClassifier\n",
    "from sklearn.tree import DecisionTreeClassifier\n",
    "from sklearn.svm import SVC\n",
    "from sklearn.model_selection import RepeatedStratifiedKFold, ShuffleSplit\n",
    "from sklearn.preprocessing import StandardScaler, MinMaxScaler, RobustScaler\n",
    "\n",
    "import json\n",
    "from sample import config as python_config\n"
   ]
  },
  {
   "cell_type": "code",
   "execution_count": null,
   "id": "3d701b7b",
   "metadata": {},
   "outputs": [
    {
     "name": "stdout",
     "output_type": "stream",
     "text": [
      "The autoreload extension is already loaded. To reload it, use:\n",
      "  %reload_ext autoreload\n"
     ]
    },
    {
     "ename": "ModuleNotFoundError",
     "evalue": "No module named 'SpectraDataset'",
     "output_type": "error",
     "traceback": [
      "\u001b[1;31m---------------------------------------------------------------------------\u001b[0m",
      "\u001b[1;31mModuleNotFoundError\u001b[0m                       Traceback (most recent call last)",
      "Cell \u001b[1;32mIn[42], line 5\u001b[0m\n\u001b[0;32m      2\u001b[0m get_ipython()\u001b[38;5;241m.\u001b[39mrun_line_magic(\u001b[38;5;124m'\u001b[39m\u001b[38;5;124mautoreload\u001b[39m\u001b[38;5;124m'\u001b[39m, \u001b[38;5;124m'\u001b[39m\u001b[38;5;124m2\u001b[39m\u001b[38;5;124m'\u001b[39m)\n\u001b[0;32m      4\u001b[0m \u001b[38;5;28;01mfrom\u001b[39;00m\u001b[38;5;250m \u001b[39m\u001b[38;5;21;01mspectra\u001b[39;00m\u001b[38;5;21;01m.\u001b[39;00m\u001b[38;5;21;01mSpectraDataset\u001b[39;00m\u001b[38;5;250m \u001b[39m\u001b[38;5;28;01mimport\u001b[39;00m SpectraDataset\n\u001b[1;32m----> 5\u001b[0m \u001b[38;5;28;01mfrom\u001b[39;00m\u001b[38;5;250m \u001b[39m\u001b[38;5;21;01mpipeline\u001b[39;00m\u001b[38;5;21;01m.\u001b[39;00m\u001b[38;5;21;01mPipelineRunner\u001b[39;00m\u001b[38;5;250m \u001b[39m\u001b[38;5;28;01mimport\u001b[39;00m PipelineRunner\n\u001b[0;32m      8\u001b[0m \u001b[38;5;66;03m# Load dataset (using current SpectraDataset API)\u001b[39;00m\n\u001b[0;32m      9\u001b[0m dataset_py \u001b[38;5;241m=\u001b[39m SpectraDataset\u001b[38;5;241m.\u001b[39mfrom_config(python_config)\n",
      "File \u001b[1;32md:\\Workspace\\ML\\NIRS\\nirs4all\\examples\\bench\\core\\pipeline\\PipelineRunner.py:14\u001b[0m\n\u001b[0;32m     11\u001b[0m \u001b[38;5;28;01mimport\u001b[39;00m\u001b[38;5;250m \u001b[39m\u001b[38;5;21;01mcopy\u001b[39;00m\n\u001b[0;32m     12\u001b[0m \u001b[38;5;28;01mfrom\u001b[39;00m\u001b[38;5;250m \u001b[39m\u001b[38;5;21;01mpathlib\u001b[39;00m\u001b[38;5;250m \u001b[39m\u001b[38;5;28;01mimport\u001b[39;00m Path\n\u001b[1;32m---> 14\u001b[0m \u001b[38;5;28;01mfrom\u001b[39;00m\u001b[38;5;250m \u001b[39m\u001b[38;5;21;01mSpectraDataset\u001b[39;00m\u001b[38;5;250m \u001b[39m\u001b[38;5;28;01mimport\u001b[39;00m SpectraDataset\n\u001b[0;32m     15\u001b[0m \u001b[38;5;28;01mfrom\u001b[39;00m\u001b[38;5;250m \u001b[39m\u001b[38;5;21;01mPipelineContext\u001b[39;00m\u001b[38;5;250m \u001b[39m\u001b[38;5;28;01mimport\u001b[39;00m PipelineContext\n\u001b[0;32m     16\u001b[0m \u001b[38;5;28;01mfrom\u001b[39;00m\u001b[38;5;250m \u001b[39m\u001b[38;5;21;01mPipelineConfig\u001b[39;00m\u001b[38;5;250m \u001b[39m\u001b[38;5;28;01mimport\u001b[39;00m PipelineConfig\n",
      "\u001b[1;31mModuleNotFoundError\u001b[0m: No module named 'SpectraDataset'"
     ]
    }
   ],
   "source": [
    "%load_ext autoreload\n",
    "%autoreload 2\n",
    "\n",
    "from spectra.SpectraDataset import SpectraDataset\n",
    "from pipeline.PipelineRunner import PipelineRunner\n",
    "\n",
    "\n",
    "# Load dataset (using current SpectraDataset API)\n",
    "dataset_py = SpectraDataset.from_config(python_config)\n",
    "dataset_json = SpectraDataset.from_config(\"sample.json\")\n",
    "dataset_yaml = SpectraDataset.from_config(\"sample.yaml\")\n",
    "\n",
    "print(\"\\n\", \"=\"*200, \"\\nPython Dataset:\\n\", dataset_py)\n",
    "print(\"\\n\", \"=\"*200, \"\\nJSON Dataset:\\n\", dataset_json)\n",
    "print(\"\\n\", \"=\"*200, \"\\nYAML Dataset:\\n\", dataset_yaml)\n",
    "\n",
    "# Execute with different config types\n",
    "\n",
    "runner = PipelineRunner(max_workers=4, continue_on_error=True)\n",
    "history_py = runner.run(python_config, dataset_py)\n",
    "history_json = runner.run(\"sample.json\", dataset_json)\n",
    "history_yaml = runner.run(\"sample.yaml\", dataset_yaml)\n",
    "\n",
    "# # Get execution summary\n",
    "# summary = runner.get_execution_summary()\n",
    "# print(f\"Executed {summary['total_steps']} steps\")\n",
    "# print(f\"Success rate: {summary['successful_steps']}/{summary['total_steps']}\")\n",
    "\n",
    "# # Access predictions\n",
    "# predictions = summary['predictions']\n",
    "# for model_name, preds in predictions.items():\n",
    "#     print(f\"Model {model_name}: {preds.shape}\")\n",
    "\n"
   ]
  },
  {
   "cell_type": "markdown",
   "id": "6c416674",
   "metadata": {},
   "source": [
    "### Preparation Tests"
   ]
  },
  {
   "cell_type": "code",
   "execution_count": 8,
   "id": "83c81a2b",
   "metadata": {},
   "outputs": [
    {
     "name": "stdout",
     "output_type": "stream",
     "text": [
      "The autoreload extension is already loaded. To reload it, use:\n",
      "  %reload_ext autoreload\n",
      "Data loader functions ready to use!\n",
      "# For single dataset:\n",
      "Loading single XY dataset...\n",
      "Loaded single dataset: X shape (130, 2148), Y shape (130, 3)\n",
      "\n",
      "# For multiple datasets:\n",
      "Loading multiple datasets...\n",
      "Loaded train: X(130, 2151), Y(130, 1)\n",
      "Loaded test: X(59, 2151), Y(59, 1)\n",
      "Loaded train: X shape (130, 2151), Y shape (130, 1)\n",
      "Loaded test: X shape (59, 2151), Y shape (59, 1)\n",
      "\n",
      "# For folder data:\n",
      "Loading data from folder structure...\n",
      "Loaded folder data: X shape (130, 2151), Y shape (130, 1)\n",
      "<class 'numpy.ndarray'>\n"
     ]
    }
   ],
   "source": [
    "%load_ext autoreload\n",
    "%autoreload 2\n",
    "\n",
    "# Example 1: Single dataset configuration\n",
    "single_config = {\n",
    "    \"dataset\": {\n",
    "        \"X\": \"./sample_data/Xcal.csv\",\n",
    "        \"Y\": {\"from\": 0, \"to\": 3},\n",
    "        \"params\": {\n",
    "            \"delimiter\": \";\",\n",
    "            \"decimal\": \".\",\n",
    "            \"na_policy\": \"auto\"\n",
    "        }\n",
    "    }\n",
    "}\n",
    "\n",
    "# Example 2: Multiple datasets configuration\n",
    "multi_config = {\n",
    "    \"dataset\": {\n",
    "        \"train\": {\n",
    "            \"X\": \"./sample_data/Xcal.csv\",\n",
    "            \"Y\": \"./sample_data/Ycal.csv\",\n",
    "        },\n",
    "        \"test\": {\n",
    "            \"X\": \"./sample_data/Xval.csv\",\n",
    "            \"Y\": \"./sample_data/Yval.csv\",\n",
    "        },\n",
    "        # \"valid\": {\n",
    "        #     \"X\": \"/path/to/valid_features.csv\",\n",
    "        #     \"Y\": [0, 1, 2]\n",
    "        # }\n",
    "    }\n",
    "}\n",
    "\n",
    "# Example 3: Folder configuration\n",
    "folder_config = {\n",
    "    \"dataset\": \"./sample_data/\"\n",
    "}\n",
    "\n",
    "from spectra.CsvLoader import load_data_from_config\n",
    "\n",
    "try:\n",
    "    print(\"Data loader functions ready to use!\")\n",
    "\n",
    "    print(\"# For single dataset:\")\n",
    "    X, Y = load_data_from_config(single_config)\n",
    "    print(f\"Loaded single dataset: X shape {X.shape}, Y shape {Y.shape}\")\n",
    "\n",
    "    print(\"\\n# For multiple datasets:\")\n",
    "    datasets = load_data_from_config(multi_config)\n",
    "    for name, (X_data, Y_data) in datasets.items():\n",
    "        print(f\"Loaded {name}: X shape {X_data.shape}, Y shape {Y_data.shape}\")\n",
    "\n",
    "    print(\"\\n# For folder data:\")\n",
    "    X, Y = load_data_from_config(folder_config)\n",
    "    print(f\"Loaded folder data: X shape {X.shape}, Y shape {Y.shape}\")\n",
    "\n",
    "    print(type(Y[0]))\n",
    "\n",
    "except Exception as e:\n",
    "    print(f\"Example failed (expected with dummy paths): {e}\")"
   ]
  }
 ],
 "metadata": {
  "kernelspec": {
   "display_name": ".venv",
   "language": "python",
   "name": "python3"
  },
  "language_info": {
   "codemirror_mode": {
    "name": "ipython",
    "version": 3
   },
   "file_extension": ".py",
   "mimetype": "text/x-python",
   "name": "python",
   "nbconvert_exporter": "python",
   "pygments_lexer": "ipython3",
   "version": "3.10.11"
  }
 },
 "nbformat": 4,
 "nbformat_minor": 5
}
