{
 "cells": [
  {
   "cell_type": "code",
   "execution_count": null,
   "id": "1cd2c713",
   "metadata": {},
   "outputs": [
    {
     "ename": "ModuleNotFoundError",
     "evalue": "No module named 'indexer'",
     "output_type": "error",
     "traceback": [
      "\u001b[1;31m---------------------------------------------------------------------------\u001b[0m",
      "\u001b[1;31mModuleNotFoundError\u001b[0m                       Traceback (most recent call last)",
      "Cell \u001b[1;32mIn[1], line 4\u001b[0m\n\u001b[0;32m      1\u001b[0m get_ipython()\u001b[38;5;241m.\u001b[39mrun_line_magic(\u001b[38;5;124m'\u001b[39m\u001b[38;5;124mload_ext\u001b[39m\u001b[38;5;124m'\u001b[39m, \u001b[38;5;124m'\u001b[39m\u001b[38;5;124mautoreload\u001b[39m\u001b[38;5;124m'\u001b[39m)\n\u001b[0;32m      2\u001b[0m get_ipython()\u001b[38;5;241m.\u001b[39mrun_line_magic(\u001b[38;5;124m'\u001b[39m\u001b[38;5;124mautoreload\u001b[39m\u001b[38;5;124m'\u001b[39m, \u001b[38;5;124m'\u001b[39m\u001b[38;5;124m2\u001b[39m\u001b[38;5;124m'\u001b[39m)\n\u001b[1;32m----> 4\u001b[0m \u001b[38;5;28;01mfrom\u001b[39;00m\u001b[38;5;250m \u001b[39m\u001b[38;5;21;01mindexer\u001b[39;00m\u001b[38;5;250m \u001b[39m\u001b[38;5;28;01mimport\u001b[39;00m SampleIndexManager\n\u001b[0;32m      5\u001b[0m \u001b[38;5;28;01mimport\u001b[39;00m\u001b[38;5;250m \u001b[39m\u001b[38;5;21;01mpolars\u001b[39;00m\u001b[38;5;250m \u001b[39m\u001b[38;5;28;01mas\u001b[39;00m\u001b[38;5;250m \u001b[39m\u001b[38;5;21;01mpl\u001b[39;00m\n\u001b[0;32m      7\u001b[0m n_rows \u001b[38;5;241m=\u001b[39m \u001b[38;5;241m100\u001b[39m\n",
      "\u001b[1;31mModuleNotFoundError\u001b[0m: No module named 'indexer'"
     ]
    }
   ],
   "source": [
    "%load_ext autoreload\n",
    "%autoreload 2\n",
    "\n",
    "from nirs4all.dataset.indexer import SampleIndexManager\n",
    "import polars as pl\n",
    "\n",
    "n_rows = 100\n",
    "df = pl.DataFrame({\n",
    "    \"row\": list(range(n_rows)),\n",
    "    \"sample\": list(range(n_rows)),\n",
    "    \"origin\": list(range(n_rows)),\n",
    "    \"partition\": [\"train\"] * 5 + [\"val\"] * 20 + [\"test\"] * 20 + [\"train\"] * 20 + [\"val\"] * 15 + [\"test\"] * 20,\n",
    "    \"group\": [0] * 50 + [1] * 50,\n",
    "    \"branch\": [0] * 30 + [1] * 10 + [0] * 60,\n",
    "    \"processing\": [\"raw\"] * n_rows\n",
    "})\n",
    "\n",
    "print(df)\n",
    "\n",
    "# Initialisation du gestionnaire\n",
    "manager = SampleIndexManager(df)\n",
    "\n",
    "# Récupération d'index avec filtres\n",
    "train_indices = manager.get_indices({\"partition\": \"train\", \"branch\": 0})\n",
    "print(len(train_indices), \"index trouvés pour partition 'train' et branche 0\")\n",
    "print(f\"Index d'entraînement branch 0: {train_indices}...\")\n",
    "\n",
    "# Récupération de ranges contigus\n",
    "ranges = manager.get_contiguous_ranges({\"partition\": \"train\", \"group\": 0})\n",
    "print(f\"Ranges contigus: {ranges}\")\n",
    "\n",
    "# Mise à jour par filtre\n",
    "manager.update_by_filter(\n",
    "    {\"partition\": \"train\", \"group\": 0},\n",
    "    {\"processing\": \"normalized\"}\n",
    ")\n",
    "\n",
    "# Mise à jour par liste d'index\n",
    "manager.update_by_indices([0, 1, 2], {\"branch\": 2})\n",
    "\n",
    "# Statistiques\n",
    "stats = manager.get_stats()\n",
    "print(\"Statistiques:\")\n",
    "print(stats)\n"
   ]
  }
 ],
 "metadata": {
  "kernelspec": {
   "display_name": ".venv",
   "language": "python",
   "name": "python3"
  },
  "language_info": {
   "codemirror_mode": {
    "name": "ipython",
    "version": 3
   },
   "file_extension": ".py",
   "mimetype": "text/x-python",
   "name": "python",
   "nbconvert_exporter": "python",
   "pygments_lexer": "ipython3",
   "version": "3.10.11"
  }
 },
 "nbformat": 4,
 "nbformat_minor": 5
}
