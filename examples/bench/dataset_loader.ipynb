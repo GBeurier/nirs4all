{
 "cells": [
  {
   "cell_type": "code",
   "execution_count": 1,
   "id": "c7c38901",
   "metadata": {},
   "outputs": [
    {
     "name": "stdout",
     "output_type": "stream",
     "text": [
      "{'folder': './sample_data'}\n",
      ">> Browsing ./sample_data\n",
      "No train_group file found for ./sample_data.\n",
      "No test_group file found for ./sample_data.\n",
      "train_x: (130, 2151)\n",
      "train_y: (130, 1)\n",
      "test_x: (59, 2151)\n",
      "test_y: (59, 1)\n",
      ">> Browsing ./sample_data\n",
      "No train_group file found for ./sample_data.\n",
      "No test_group file found for ./sample_data.\n",
      "FeatureBlock with 1 sources and 189 samples\n",
      "Source 0: FeatureSource(shape=(189, 1, 2151), dtype=float32, processing_ids=['raw'], mean=0.46620577573776245, variance=0.1492786705493927)\n",
      "Unique augmentations: [None]\n",
      "Index:\n",
      "shape: (189, 8)\n",
      "┌─────┬────────┬────────┬───────────┬───────┬────────┬────────────┬──────────────┐\n",
      "│ row ┆ sample ┆ origin ┆ partition ┆ group ┆ branch ┆ processing ┆ augmentation │\n",
      "│ --- ┆ ---    ┆ ---    ┆ ---       ┆ ---   ┆ ---    ┆ ---        ┆ ---          │\n",
      "│ i32 ┆ i32    ┆ i32    ┆ cat       ┆ i8    ┆ i8     ┆ cat        ┆ cat          │\n",
      "╞═════╪════════╪════════╪═══════════╪═══════╪════════╪════════════╪══════════════╡\n",
      "│ 0   ┆ 0      ┆ null   ┆ train     ┆ 0     ┆ 0      ┆ raw        ┆ null         │\n",
      "│ 1   ┆ 1      ┆ null   ┆ train     ┆ 0     ┆ 0      ┆ raw        ┆ null         │\n",
      "│ 2   ┆ 2      ┆ null   ┆ train     ┆ 0     ┆ 0      ┆ raw        ┆ null         │\n",
      "│ 3   ┆ 3      ┆ null   ┆ train     ┆ 0     ┆ 0      ┆ raw        ┆ null         │\n",
      "│ 4   ┆ 4      ┆ null   ┆ train     ┆ 0     ┆ 0      ┆ raw        ┆ null         │\n",
      "│ …   ┆ …      ┆ …      ┆ …         ┆ …     ┆ …      ┆ …          ┆ …            │\n",
      "│ 184 ┆ 184    ┆ null   ┆ test      ┆ 0     ┆ 0      ┆ raw        ┆ null         │\n",
      "│ 185 ┆ 185    ┆ null   ┆ test      ┆ 0     ┆ 0      ┆ raw        ┆ null         │\n",
      "│ 186 ┆ 186    ┆ null   ┆ test      ┆ 0     ┆ 0      ┆ raw        ┆ null         │\n",
      "│ 187 ┆ 187    ┆ null   ┆ test      ┆ 0     ┆ 0      ┆ raw        ┆ null         │\n",
      "│ 188 ┆ 188    ┆ null   ┆ test      ┆ 0     ┆ 0      ┆ raw        ┆ null         │\n",
      "└─────┴────────┴────────┴───────────┴───────┴────────┴────────────┴──────────────┘\n",
      "shape: (189, 8)\n",
      "┌─────┬────────┬────────┬───────────┬───────┬────────┬────────────┬──────────────┐\n",
      "│ row ┆ sample ┆ origin ┆ partition ┆ group ┆ branch ┆ processing ┆ augmentation │\n",
      "│ --- ┆ ---    ┆ ---    ┆ ---       ┆ ---   ┆ ---    ┆ ---        ┆ ---          │\n",
      "│ i32 ┆ i32    ┆ i32    ┆ cat       ┆ i8    ┆ i8     ┆ cat        ┆ cat          │\n",
      "╞═════╪════════╪════════╪═══════════╪═══════╪════════╪════════════╪══════════════╡\n",
      "│ 0   ┆ 0      ┆ null   ┆ train     ┆ 0     ┆ 0      ┆ raw        ┆ null         │\n",
      "│ 1   ┆ 1      ┆ null   ┆ train     ┆ 0     ┆ 0      ┆ raw        ┆ null         │\n",
      "│ 2   ┆ 2      ┆ null   ┆ train     ┆ 0     ┆ 0      ┆ raw        ┆ null         │\n",
      "│ 3   ┆ 3      ┆ null   ┆ train     ┆ 0     ┆ 0      ┆ raw        ┆ null         │\n",
      "│ 4   ┆ 4      ┆ null   ┆ train     ┆ 0     ┆ 0      ┆ raw        ┆ null         │\n",
      "│ …   ┆ …      ┆ …      ┆ …         ┆ …     ┆ …      ┆ …          ┆ …            │\n",
      "│ 184 ┆ 184    ┆ null   ┆ test      ┆ 0     ┆ 0      ┆ raw        ┆ null         │\n",
      "│ 185 ┆ 185    ┆ null   ┆ test      ┆ 0     ┆ 0      ┆ raw        ┆ null         │\n",
      "│ 186 ┆ 186    ┆ null   ┆ test      ┆ 0     ┆ 0      ┆ raw        ┆ null         │\n",
      "│ 187 ┆ 187    ┆ null   ┆ test      ┆ 0     ┆ 0      ┆ raw        ┆ null         │\n",
      "│ 188 ┆ 188    ┆ null   ┆ test      ┆ 0     ┆ 0      ┆ raw        ┆ null         │\n",
      "└─────┴────────┴────────┴───────────┴───────┴────────┴────────────┴──────────────┘\n",
      "2d: (189, 2151)\n",
      "3d: (59, 1, 2151)\n",
      "189 indices\n",
      "[0, 1, 2, 3, 4, 5, 6, 7, 8, 9, 10, 11, 12, 13, 14, 15, 16, 17, 18, 19, 20, 21, 22, 23, 24, 25, 26, 27, 28, 29, 30, 31, 32, 33, 34, 35, 36, 37, 38, 39, 40, 41, 42, 43, 44, 45, 46, 47, 48, 49, 50, 51, 52, 53, 54, 55, 56, 57, 58, 59, 60, 61, 62, 63, 64, 65, 66, 67, 68, 69, 70, 71, 72, 73, 74, 75, 76, 77, 78, 79, 80, 81, 82, 83, 84, 85, 86, 87, 88, 89, 90, 91, 92, 93, 94, 95, 96, 97, 98, 99, 100, 101, 102, 103, 104, 105, 106, 107, 108, 109, 110, 111, 112, 113, 114, 115, 116, 117, 118, 119, 120, 121, 122, 123, 124, 125, 126, 127, 128, 129, 130, 131, 132, 133, 134, 135, 136, 137, 138, 139, 140, 141, 142, 143, 144, 145, 146, 147, 148, 149, 150, 151, 152, 153, 154, 155, 156, 157, 158, 159, 160, 161, 162, 163, 164, 165, 166, 167, 168, 169, 170, 171, 172, 173, 174, 175, 176, 177, 178, 179, 180, 181, 182, 183, 184, 185, 186, 187, 188]\n",
      "y, (189, 1)\n"
     ]
    },
    {
     "name": "stderr",
     "output_type": "stream",
     "text": [
      "sys:1: CategoricalRemappingWarning: Local categoricals have different encodings, expensive re-encoding is done to perform this merge operation. Consider using a StringCache or an Enum type if the categories are known in advance\n"
     ]
    }
   ],
   "source": [
    "%load_ext autoreload\n",
    "%autoreload 2\n",
    "\n",
    "from nirs4all.dataset.loader import get_dataset\n",
    "from sample import config as python_config\n",
    "\n",
    "print(python_config[\"dataset\"])\n",
    "\n",
    "dataset = get_dataset(python_config[\"dataset\"], disjoint=True)\n",
    "for key in dataset:\n",
    "    print(f\"{key}: {dataset[key].shape}\")\n",
    "\n",
    "dataset = get_dataset(python_config[\"dataset\"])\n",
    "print(dataset.features)\n",
    "print(dataset.features.index)\n",
    "print(f\"2d: {dataset.x().shape}\")\n",
    "dataset_3d_test = dataset.x({\"partition\": \"test\"}, \"3d\")\n",
    "print(f\"3d: {dataset_3d_test.shape}\")\n",
    "\n",
    "print(f\"y, {dataset.y().shape}\")"
   ]
  },
  {
   "cell_type": "code",
   "execution_count": 7,
   "id": "fd7192d8",
   "metadata": {},
   "outputs": [
    {
     "name": "stdout",
     "output_type": "stream",
     "text": [
      "array: (11,)\n",
      "[1 1 5 6 8 4 6 6 6 7 9 4]\n"
     ]
    }
   ],
   "source": [
    "import numpy as np\n",
    "\n",
    "array = np.array([0,1,2,3,4,5,6,7,8,9,10])\n",
    "print(f\"array: {array.shape}\")\n",
    "print(array[[1,1,5,6,8,4,6,6,6,7,9,4]])"
   ]
  }
 ],
 "metadata": {
  "kernelspec": {
   "display_name": ".venv",
   "language": "python",
   "name": "python3"
  },
  "language_info": {
   "codemirror_mode": {
    "name": "ipython",
    "version": 3
   },
   "file_extension": ".py",
   "mimetype": "text/x-python",
   "name": "python",
   "nbconvert_exporter": "python",
   "pygments_lexer": "ipython3",
   "version": "3.10.11"
  }
 },
 "nbformat": 4,
 "nbformat_minor": 5
}
