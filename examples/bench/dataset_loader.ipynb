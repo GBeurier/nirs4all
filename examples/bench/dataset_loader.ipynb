{
 "cells": [
  {
   "cell_type": "code",
   "execution_count": null,
   "id": "c7c38901",
   "metadata": {},
   "outputs": [
    {
     "ename": "SyntaxError",
     "evalue": "invalid decimal literal (745093742.py, line 17)",
     "output_type": "error",
     "traceback": [
      "\u001b[1;36m  Cell \u001b[1;32mIn[26], line 17\u001b[1;36m\u001b[0m\n\u001b[1;33m    print(f\"3d: {dataset.x({\"partition\": \"test\"}, layout = \"3d\").shape}\")\u001b[0m\n\u001b[1;37m                                                            ^\u001b[0m\n\u001b[1;31mSyntaxError\u001b[0m\u001b[1;31m:\u001b[0m invalid decimal literal\n"
     ]
    }
   ],
   "source": [
    "%load_ext autoreload\n",
    "%autoreload 2\n",
    "\n",
    "from nirs4all.dataset.loader import get_dataset\n",
    "from sample import config as python_config\n",
    "\n",
    "print(python_config[\"dataset\"])\n",
    "\n",
    "dataset = get_dataset(python_config[\"dataset\"], disjoint=True)\n",
    "for key in dataset:\n",
    "    print(f\"{key}: {dataset[key].shape}\")\n",
    "\n",
    "dataset = get_dataset(python_config[\"dataset\"])\n",
    "print(dataset.features)\n",
    "print(dataset.features.index)\n",
    "print(f\"2d: {dataset.x().shape}\")\n",
    "print(f\"3d: {dataset.x({\"partition\": \"test\"}, \"3d\").shape}\")"
   ]
  },
  {
   "cell_type": "code",
   "execution_count": 3,
   "id": "86a062ee",
   "metadata": {},
   "outputs": [
    {
     "name": "stdout",
     "output_type": "stream",
     "text": [
      "shape: (5, 7)\n",
      "┌────────┬────────┬───────────┬───────┬────────┬────────────┬─────┐\n",
      "│ sample ┆ origin ┆ partition ┆ group ┆ branch ┆ processing ┆ row │\n",
      "│ ---    ┆ ---    ┆ ---       ┆ ---   ┆ ---    ┆ ---        ┆ --- │\n",
      "│ i32    ┆ i32    ┆ cat       ┆ i8    ┆ i8     ┆ cat        ┆ i32 │\n",
      "╞════════╪════════╪═══════════╪═══════╪════════╪════════════╪═════╡\n",
      "│ 0      ┆ null   ┆ train     ┆ 0     ┆ 0      ┆ raw        ┆ 0   │\n",
      "│ 1      ┆ null   ┆ train     ┆ 0     ┆ 0      ┆ raw        ┆ 1   │\n",
      "│ 2      ┆ null   ┆ train     ┆ 0     ┆ 0      ┆ raw        ┆ 2   │\n",
      "│ 3      ┆ null   ┆ test      ┆ 0     ┆ 0      ┆ raw        ┆ 3   │\n",
      "│ 4      ┆ null   ┆ test      ┆ 0     ┆ 0      ┆ raw        ┆ 4   │\n",
      "└────────┴────────┴───────────┴───────┴────────┴────────────┴─────┘\n"
     ]
    },
    {
     "name": "stderr",
     "output_type": "stream",
     "text": [
      "sys:1: CategoricalRemappingWarning: Local categoricals have different encodings, expensive re-encoding is done to perform this merge operation. Consider using a StringCache or an Enum type if the categories are known in advance\n"
     ]
    }
   ],
   "source": [
    "import numpy as np\n",
    "from nirs4all.dataset.features import Features\n",
    "\n",
    "f = Features()\n",
    "\n",
    "# First batch: 3 samples, 2 sources\n",
    "a1 = np.random.randn(3, 4).astype(np.float32)\n",
    "a2 = np.random.randn(3, 8).astype(np.float32)\n",
    "f.add_features({\"partition\": \"train\"}, [a1, a2])\n",
    "\n",
    "# Second batch: 2 new samples\n",
    "b1 = np.random.randn(2, 4).astype(np.float32)\n",
    "b2 = np.random.randn(2, 8).astype(np.float32)\n",
    "f.add_features({\"partition\": \"test\"}, [b1, b2])\n",
    "\n",
    "print(f.index)"
   ]
  }
 ],
 "metadata": {
  "kernelspec": {
   "display_name": ".venv",
   "language": "python",
   "name": "python3"
  },
  "language_info": {
   "codemirror_mode": {
    "name": "ipython",
    "version": 3
   },
   "file_extension": ".py",
   "mimetype": "text/x-python",
   "name": "python",
   "nbconvert_exporter": "python",
   "pygments_lexer": "ipython3",
   "version": "3.10.11"
  }
 },
 "nbformat": 4,
 "nbformat_minor": 5
}
