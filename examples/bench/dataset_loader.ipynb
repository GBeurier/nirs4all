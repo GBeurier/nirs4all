{
 "cells": [
  {
   "cell_type": "code",
   "execution_count": 28,
   "id": "c7c38901",
   "metadata": {},
   "outputs": [
    {
     "name": "stdout",
     "output_type": "stream",
     "text": [
      "The autoreload extension is already loaded. To reload it, use:\n",
      "  %reload_ext autoreload\n",
      "{'type': 'classification', 'folder': './sample_data'}\n",
      ">> Browsing ./sample_data\n",
      "No train_group file found for ./sample_data.\n",
      "No test_group file found for ./sample_data.\n",
      "train_x: (130, 2151)\n",
      "train_y: (130, 1)\n",
      "test_x: (59, 2151)\n",
      "test_y: (59, 1)\n",
      ">> Browsing ./sample_data\n",
      "No train_group file found for ./sample_data.\n",
      "No test_group file found for ./sample_data.\n",
      "FeatureBlock(sources=1, samples=189)\n",
      "shape: (189, 7)\n",
      "┌────────┬────────┬───────────┬───────┬────────┬────────────┬─────┐\n",
      "│ sample ┆ origin ┆ partition ┆ group ┆ branch ┆ processing ┆ row │\n",
      "│ ---    ┆ ---    ┆ ---       ┆ ---   ┆ ---    ┆ ---        ┆ --- │\n",
      "│ i32    ┆ i32    ┆ cat       ┆ i8    ┆ i8     ┆ cat        ┆ i32 │\n",
      "╞════════╪════════╪═══════════╪═══════╪════════╪════════════╪═════╡\n",
      "│ 0      ┆ null   ┆ train     ┆ 0     ┆ 0      ┆ raw        ┆ 0   │\n",
      "│ 1      ┆ null   ┆ train     ┆ 0     ┆ 0      ┆ raw        ┆ 1   │\n",
      "│ 2      ┆ null   ┆ train     ┆ 0     ┆ 0      ┆ raw        ┆ 2   │\n",
      "│ 3      ┆ null   ┆ train     ┆ 0     ┆ 0      ┆ raw        ┆ 3   │\n",
      "│ 4      ┆ null   ┆ train     ┆ 0     ┆ 0      ┆ raw        ┆ 4   │\n",
      "│ …      ┆ …      ┆ …         ┆ …     ┆ …      ┆ …          ┆ …   │\n",
      "│ 184    ┆ null   ┆ test      ┆ 0     ┆ 0      ┆ raw        ┆ 184 │\n",
      "│ 185    ┆ null   ┆ test      ┆ 0     ┆ 0      ┆ raw        ┆ 185 │\n",
      "│ 186    ┆ null   ┆ test      ┆ 0     ┆ 0      ┆ raw        ┆ 186 │\n",
      "│ 187    ┆ null   ┆ test      ┆ 0     ┆ 0      ┆ raw        ┆ 187 │\n",
      "│ 188    ┆ null   ┆ test      ┆ 0     ┆ 0      ┆ raw        ┆ 188 │\n",
      "└────────┴────────┴───────────┴───────┴────────┴────────────┴─────┘\n",
      "[  0   1   2   3   4   5   6   7   8   9  10  11  12  13  14  15  16  17\n",
      "  18  19  20  21  22  23  24  25  26  27  28  29  30  31  32  33  34  35\n",
      "  36  37  38  39  40  41  42  43  44  45  46  47  48  49  50  51  52  53\n",
      "  54  55  56  57  58  59  60  61  62  63  64  65  66  67  68  69  70  71\n",
      "  72  73  74  75  76  77  78  79  80  81  82  83  84  85  86  87  88  89\n",
      "  90  91  92  93  94  95  96  97  98  99 100 101 102 103 104 105 106 107\n",
      " 108 109 110 111 112 113 114 115 116 117 118 119 120 121 122 123 124 125\n",
      " 126 127 128 129 130 131 132 133 134 135 136 137 138 139 140 141 142 143\n",
      " 144 145 146 147 148 149 150 151 152 153 154 155 156 157 158 159 160 161\n",
      " 162 163 164 165 166 167 168 169 170 171 172 173 174 175 176 177 178 179\n",
      " 180 181 182 183 184 185 186 187 188]\n",
      "2d: (189, 2151)\n",
      "[130 131 132 133 134 135 136 137 138 139 140 141 142 143 144 145 146 147\n",
      " 148 149 150 151 152 153 154 155 156 157 158 159 160 161 162 163 164 165\n",
      " 166 167 168 169 170 171 172 173 174 175 176 177 178 179 180 181 182 183\n",
      " 184 185 186 187 188]\n",
      "3d: (59, 1, 2151)\n"
     ]
    },
    {
     "name": "stderr",
     "output_type": "stream",
     "text": [
      "sys:1: CategoricalRemappingWarning: Local categoricals have different encodings, expensive re-encoding is done to perform this merge operation. Consider using a StringCache or an Enum type if the categories are known in advance\n"
     ]
    }
   ],
   "source": [
    "%load_ext autoreload\n",
    "%autoreload 2\n",
    "\n",
    "from nirs4all.dataset.loader import get_dataset\n",
    "from sample import config as python_config\n",
    "\n",
    "print(python_config[\"dataset\"])\n",
    "\n",
    "dataset = get_dataset(python_config[\"dataset\"], disjoint=True)\n",
    "for key in dataset:\n",
    "    print(f\"{key}: {dataset[key].shape}\")\n",
    "\n",
    "dataset = get_dataset(python_config[\"dataset\"])\n",
    "print(dataset.features)\n",
    "print(dataset.features.index)\n",
    "print(f\"2d: {dataset.x().shape}\")\n",
    "dataset_3d_test = dataset.x({\"partition\": \"test\"}, \"3d\")\n",
    "print(f\"3d: {dataset_3d_test.shape}\")"
   ]
  }
 ],
 "metadata": {
  "kernelspec": {
   "display_name": ".venv",
   "language": "python",
   "name": "python3"
  },
  "language_info": {
   "codemirror_mode": {
    "name": "ipython",
    "version": 3
   },
   "file_extension": ".py",
   "mimetype": "text/x-python",
   "name": "python",
   "nbconvert_exporter": "python",
   "pygments_lexer": "ipython3",
   "version": "3.10.11"
  }
 },
 "nbformat": 4,
 "nbformat_minor": 5
}
