{
 "cells": [
  {
   "cell_type": "code",
   "execution_count": 1,
   "id": "c7c38901",
   "metadata": {},
   "outputs": [
    {
     "name": "stdout",
     "output_type": "stream",
     "text": [
      "{'type': 'classification', 'folder': './sample_data'}\n",
      ">> Browsing ./sample_data\n",
      "No train_group file found for ./sample_data.\n",
      "No test_group file found for ./sample_data.\n",
      "train_x: (130, 2151)\n",
      "train_y: (130, 1)\n",
      "test_x: (59, 2151)\n",
      "test_y: (59, 1)\n",
      ">> Browsing ./sample_data\n",
      "No train_group file found for ./sample_data.\n",
      "No test_group file found for ./sample_data.\n",
      "FeatureBlock with 1 sources and 189 samples\n",
      "Source 0: FeatureSource(shape=(189, 1, 2151), dtype=float32, processing_ids=['raw'], mean=0.46620577573776245, variance=0.1492786705493927)\n",
      "Index:\n",
      "shape: (189, 7)\n",
      "┌─────┬────────┬────────┬───────────┬───────┬────────┬────────────┐\n",
      "│ row ┆ sample ┆ origin ┆ partition ┆ group ┆ branch ┆ processing │\n",
      "│ --- ┆ ---    ┆ ---    ┆ ---       ┆ ---   ┆ ---    ┆ ---        │\n",
      "│ i32 ┆ i32    ┆ i32    ┆ cat       ┆ i8    ┆ i8     ┆ cat        │\n",
      "╞═════╪════════╪════════╪═══════════╪═══════╪════════╪════════════╡\n",
      "│ 0   ┆ 0      ┆ null   ┆ train     ┆ 0     ┆ 0      ┆ raw        │\n",
      "│ 1   ┆ 1      ┆ null   ┆ train     ┆ 0     ┆ 0      ┆ raw        │\n",
      "│ 2   ┆ 2      ┆ null   ┆ train     ┆ 0     ┆ 0      ┆ raw        │\n",
      "│ 3   ┆ 3      ┆ null   ┆ train     ┆ 0     ┆ 0      ┆ raw        │\n",
      "│ 4   ┆ 4      ┆ null   ┆ train     ┆ 0     ┆ 0      ┆ raw        │\n",
      "│ …   ┆ …      ┆ …      ┆ …         ┆ …     ┆ …      ┆ …          │\n",
      "│ 184 ┆ 184    ┆ null   ┆ test      ┆ 0     ┆ 0      ┆ raw        │\n",
      "│ 185 ┆ 185    ┆ null   ┆ test      ┆ 0     ┆ 0      ┆ raw        │\n",
      "│ 186 ┆ 186    ┆ null   ┆ test      ┆ 0     ┆ 0      ┆ raw        │\n",
      "│ 187 ┆ 187    ┆ null   ┆ test      ┆ 0     ┆ 0      ┆ raw        │\n",
      "│ 188 ┆ 188    ┆ null   ┆ test      ┆ 0     ┆ 0      ┆ raw        │\n",
      "└─────┴────────┴────────┴───────────┴───────┴────────┴────────────┘\n",
      "shape: (189, 7)\n",
      "┌─────┬────────┬────────┬───────────┬───────┬────────┬────────────┐\n",
      "│ row ┆ sample ┆ origin ┆ partition ┆ group ┆ branch ┆ processing │\n",
      "│ --- ┆ ---    ┆ ---    ┆ ---       ┆ ---   ┆ ---    ┆ ---        │\n",
      "│ i32 ┆ i32    ┆ i32    ┆ cat       ┆ i8    ┆ i8     ┆ cat        │\n",
      "╞═════╪════════╪════════╪═══════════╪═══════╪════════╪════════════╡\n",
      "│ 0   ┆ 0      ┆ null   ┆ train     ┆ 0     ┆ 0      ┆ raw        │\n",
      "│ 1   ┆ 1      ┆ null   ┆ train     ┆ 0     ┆ 0      ┆ raw        │\n",
      "│ 2   ┆ 2      ┆ null   ┆ train     ┆ 0     ┆ 0      ┆ raw        │\n",
      "│ 3   ┆ 3      ┆ null   ┆ train     ┆ 0     ┆ 0      ┆ raw        │\n",
      "│ 4   ┆ 4      ┆ null   ┆ train     ┆ 0     ┆ 0      ┆ raw        │\n",
      "│ …   ┆ …      ┆ …      ┆ …         ┆ …     ┆ …      ┆ …          │\n",
      "│ 184 ┆ 184    ┆ null   ┆ test      ┆ 0     ┆ 0      ┆ raw        │\n",
      "│ 185 ┆ 185    ┆ null   ┆ test      ┆ 0     ┆ 0      ┆ raw        │\n",
      "│ 186 ┆ 186    ┆ null   ┆ test      ┆ 0     ┆ 0      ┆ raw        │\n",
      "│ 187 ┆ 187    ┆ null   ┆ test      ┆ 0     ┆ 0      ┆ raw        │\n",
      "│ 188 ┆ 188    ┆ null   ┆ test      ┆ 0     ┆ 0      ┆ raw        │\n",
      "└─────┴────────┴────────┴───────────┴───────┴────────┴────────────┘\n",
      "2d: (189, 2151)\n",
      "3d: (59, 2151)\n"
     ]
    },
    {
     "name": "stderr",
     "output_type": "stream",
     "text": [
      "sys:1: CategoricalRemappingWarning: Local categoricals have different encodings, expensive re-encoding is done to perform this merge operation. Consider using a StringCache or an Enum type if the categories are known in advance\n"
     ]
    }
   ],
   "source": [
    "%load_ext autoreload\n",
    "%autoreload 2\n",
    "\n",
    "from nirs4all.dataset.loader import get_dataset\n",
    "from sample import config as python_config\n",
    "\n",
    "print(python_config[\"dataset\"])\n",
    "\n",
    "dataset = get_dataset(python_config[\"dataset\"], disjoint=True)\n",
    "for key in dataset:\n",
    "    print(f\"{key}: {dataset[key].shape}\")\n",
    "\n",
    "dataset = get_dataset(python_config[\"dataset\"])\n",
    "print(dataset.features)\n",
    "print(dataset.features.index)\n",
    "print(f\"2d: {dataset.x().shape}\")\n",
    "dataset_3d_test = dataset.x({\"partition\": \"test\"}, \"3d\")\n",
    "print(f\"3d: {dataset_3d_test.shape}\")"
   ]
  }
 ],
 "metadata": {
  "kernelspec": {
   "display_name": ".venv",
   "language": "python",
   "name": "python3"
  },
  "language_info": {
   "codemirror_mode": {
    "name": "ipython",
    "version": 3
   },
   "file_extension": ".py",
   "mimetype": "text/x-python",
   "name": "python",
   "nbconvert_exporter": "python",
   "pygments_lexer": "ipython3",
   "version": "3.10.11"
  }
 },
 "nbformat": 4,
 "nbformat_minor": 5
}
