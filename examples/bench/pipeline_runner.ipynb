{
 "cells": [
  {
   "cell_type": "code",
   "execution_count": null,
   "id": "3d701b7b",
   "metadata": {},
   "outputs": [
    {
     "name": "stdout",
     "output_type": "stream",
     "text": [
      "========================================================================================================================================================================================================\n",
      "\u001b[94mLoading dataset:\u001b[0m\n",
      "--------------------------------------------------------------------------------------------------------------------------------------------------------------------------------------------------------\n",
      "⚠️ Dataset does not have data for train_group.\n",
      "⚠️ Dataset does not have data for test_group.\n",
      "\u001b[97m📊 Dataset: sample_data\n",
      "Features (samples=189, sources=1):\n",
      "- Source 0: (189, 1, 2151), processings=['raw'], min=-0.265, max=1.436, mean=0.466, var=0.149)\n",
      "Targets:\n",
      "- samples=189, targets=1, processings=['raw', 'numeric'], min=1.33, max=128.31, mean=30.779, variance=505.168\n",
      "Indexes:\n",
      "- \"train\", ['raw']: 130 samples\n",
      "- \"test\", ['raw']: 59 samples\u001b[0m\n",
      "========================================================================================================================================================================================================\n",
      "\u001b[94m🚀 Starting pipeline config_demo_pipeline_887d86 on dataset sample_data\u001b[0m\n",
      "--------------------------------------------------------------------------------------------------------------------------------------------------------------------------------------------------------\n",
      "\u001b[94m🔄 Running 3 steps in sequential mode\u001b[0m\n",
      "\u001b[92m🔷 Step 1: chart_3d\u001b[0m\n",
      "🔹 Executing controller SpectraChartController without operator\n",
      "💾 Saved 1_3D-raw_samples.png to results\\sample_data\\config_demo_pipeline_887d86\\1_3D-raw_samples.png\n",
      "--------------------------------------------------------------------------------------------------------------------------------------------------------------------------------------------------------\n",
      "\u001b[92m🔷 Step 2: chart_2d\u001b[0m\n",
      "🔹 Executing controller SpectraChartController without operator\n",
      "💾 Saved 2_2D-raw_samples.png to results\\sample_data\\config_demo_pipeline_887d86\\2_2D-raw_samples.png\n",
      "--------------------------------------------------------------------------------------------------------------------------------------------------------------------------------------------------------\n",
      "\u001b[92m🔷 Step 3: Dict with 3 keys\u001b[0m\n",
      "🔹 Executing controller TransformerMixinController with operator MinMaxScaler\n",
      "Processing source 0: train shape (130, 1, 2151), all shape (189, 1, 2151)\n",
      "💾 Saved 3_MinMaxScal.pkl to results\\sample_data\\config_demo_pipeline_887d86\\3_MinMaxScal.pkl\n",
      "--------------------------------------------------------------------------------------------------------------------------------------------------------------------------------------------------------\n",
      "\u001b[97m📊 Dataset: sample_data\n",
      "Features (samples=189, sources=1):\n",
      "- Source 0: (189, 1, 2151), processings=['raw_MinMaxScal'], min=0.1, max=0.89, mean=0.661, var=0.016)\n",
      "Targets:\n",
      "- samples=189, targets=1, processings=['raw', 'numeric'], min=1.33, max=128.31, mean=30.779, variance=505.168\n",
      "Indexes:\n",
      "- \"train\", ['raw_MinMaxScal']: 130 samples\n",
      "- \"test\", ['raw_MinMaxScal']: 59 samples\u001b[0m\n",
      "--------------------------------------------------------------------------------------------------------------------------------------------------------------------------------------------------------\n",
      "\u001b[94m✅ Pipeline config_demo_pipeline_887d86 completed successfully on dataset sample_data\u001b[0m\n"
     ]
    }
   ],
   "source": [
    "try:\n",
    "    %reload_ext autoreload\n",
    "except:\n",
    "    %load_ext autoreload\n",
    "%autoreload 2\n",
    "\n",
    "\n",
    "from nirs4all.pipeline.runner import PipelineRunner\n",
    "from nirs4all.pipeline.config import PipelineConfig\n",
    "from nirs4all.dataset import dataset\n",
    "from sample import dataset_config, pipeline_config\n",
    "from nirs4all.dataset.loader import get_dataset\n",
    "from nirs4all.controllers.registry import reset_registry\n",
    "from nirs4all.controllers import *\n",
    "\n",
    "data = get_dataset(dataset_config)\n",
    "config = PipelineConfig(pipeline_config, \"demo_pipeline\")\n",
    "\n",
    "runner = PipelineRunner()\n",
    "res_dataset, history, pipeline = runner.run(config, data)\n",
    "\n",
    "\n",
    "# json_config = PipelineConfig(\"sample.json\")\n",
    "# yaml_config = PipelineConfig(\"sample.yaml\")\n"
   ]
  },
  {
   "cell_type": "code",
   "execution_count": 2,
   "id": "63b9d0c8",
   "metadata": {},
   "outputs": [
    {
     "name": "stdout",
     "output_type": "stream",
     "text": [
      "TRAIN: [0 3] TEST: [1 2 4]\n",
      "TRAIN: [1 2 4] TEST: [0 3]\n",
      "<generator object _BaseKFold.split at 0x00000204145B9FC0>\n",
      "TRAIN: [0 3] TEST: [1 2 4]\n",
      "TRAIN: [1 2 4] TEST: [0 3]\n",
      " [0 3] TEST: [1 2 4]\n",
      "TRAIN: [1 2 4] TEST: [0 3]\n",
      "<generator object _BaseKFold.split at 0x00000204145B9FC0>\n",
      "TRAIN: [0 3] TEST: [1 2 4]\n",
      "TRAIN: [1 2 4] TEST: [0 3]\n"
     ]
    }
   ],
   "source": [
    "# import kfold\n",
    "from sklearn.model_selection import KFold\n",
    "\n",
    "# random data for kfold\n",
    "X = [[1, 2], [3, 4], [5, 6], [7, 8], [9, 10]]\n",
    "y = [1, 2, 3, 4, 5]\n",
    "kf = KFold(n_splits=2, shuffle=True, random_state=42)\n",
    "for train_index, test_index in kf.split(X):\n",
    "    print(\"TRAIN:\", train_index, \"TEST:\", test_index)\n",
    "\n",
    "t = kf.split(X)\n",
    "print(t)\n",
    "l = list(t)\n",
    "for train_index, test_index in l:\n",
    "    print(\"TRAIN:\", train_index, \"TEST:\", test_index)"
   ]
  }
 ],
 "metadata": {
  "kernelspec": {
   "display_name": "Python 3",
   "language": "python",
   "name": "python3"
  },
  "language_info": {
   "codemirror_mode": {
    "name": "ipython",
    "version": 3
   },
   "file_extension": ".py",
   "mimetype": "text/x-python",
   "name": "python",
   "nbconvert_exporter": "python",
   "pygments_lexer": "ipython3",
   "version": "3.10.11"
  }
 },
 "nbformat": 4,
 "nbformat_minor": 5
}
