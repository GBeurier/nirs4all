{
 "cells": [
  {
   "cell_type": "code",
   "execution_count": 27,
   "id": "2df3571f",
   "metadata": {},
   "outputs": [],
   "source": [
    "# Force restart and reimport\n",
    "import importlib\n",
    "import sys\n",
    "if 'nirs4all' in sys.modules:\n",
    "    del sys.modules['nirs4all']\n",
    "if 'nirs4all.pipeline.runner' in sys.modules:\n",
    "    del sys.modules['nirs4all.pipeline.runner']"
   ]
  },
  {
   "cell_type": "code",
   "execution_count": 28,
   "id": "64f89073",
   "metadata": {},
   "outputs": [
    {
     "name": "stdout",
     "output_type": "stream",
     "text": [
      "The autoreload extension is already loaded. To reload it, use:\n",
      "  %reload_ext autoreload\n"
     ]
    }
   ],
   "source": [
    "%load_ext autoreload\n",
    "%autoreload 2\n",
    "%reset -f"
   ]
  },
  {
   "cell_type": "code",
   "execution_count": null,
   "id": "364f7d9b",
   "metadata": {},
   "outputs": [
    {
     "name": "stdout",
     "output_type": "stream",
     "text": [
      "Configuration generates 2 configurations.\n",
      "⚠️ Dataset does not have data for train_group.\n",
      "⚠️ Dataset does not have data for test_group.\n",
      "========================================================================================================================================================================================================\n",
      "\u001b[94mLoading dataset:\u001b[0m\n",
      "--------------------------------------------------------------------------------------------------------------------------------------------------------------------------------------------------------\n",
      "⚠️ Dataset does not have data for train_group.\n",
      "⚠️ Dataset does not have data for test_group.\n",
      "\u001b[97m📊 Dataset: regression\n",
      "Features (samples=189, sources=1):\n",
      "- Source 0: (189, 1, 2151), processings=['raw'], min=-0.265, max=1.436, mean=0.466, var=0.149)\n",
      "Targets: (samples=189, targets=1, processings=['numeric'])\n",
      "- numeric: min=1.33, max=128.31, mean=30.779\n",
      "Indexes:\n",
      "- \"train\", ['raw']: 130 samples\n",
      "- \"test\", ['raw']: 59 samples\u001b[0m\n",
      "⚠️ Dataset does not have data for train_group.\n",
      "⚠️ Dataset does not have data for test_group.\n",
      "========================================================================================================================================================================================================\n",
      "\u001b[94mLoading dataset:\u001b[0m\n",
      "--------------------------------------------------------------------------------------------------------------------------------------------------------------------------------------------------------\n",
      "⚠️ Dataset does not have data for train_group.\n",
      "⚠️ Dataset does not have data for test_group.\n",
      "\u001b[97m📊 Dataset: classification\n",
      "Features (samples=66, sources=1):\n",
      "- Source 0: (66, 1, 2152), processings=['raw'], min=-0.032, max=0.948, mean=0.34, var=0.106)\n",
      "Targets: (samples=66, targets=1, processings=['numeric'])\n",
      "- numeric: min=0.0, max=9.0, mean=2.894\n",
      "Indexes:\n",
      "- \"train\", ['raw']: 48 samples\n",
      "- \"test\", ['raw']: 18 samples\u001b[0m\n",
      "⚠️ Dataset does not have data for train_group.\n",
      "⚠️ Dataset does not have data for test_group.\n",
      "========================================================================================================================================================================================================\n",
      "\u001b[94mLoading dataset:\u001b[0m\n",
      "--------------------------------------------------------------------------------------------------------------------------------------------------------------------------------------------------------\n",
      "⚠️ Dataset does not have data for train_group.\n",
      "⚠️ Dataset does not have data for test_group.\n",
      "\u001b[97m📊 Dataset: binary\n",
      "Features (samples=429, sources=1):\n",
      "- Source 0: (429, 1, 1665), processings=['raw'], min=-0.024, max=0.613, mean=0.072, var=0.004)\n",
      "Targets: (samples=429, targets=1, processings=['numeric'])\n",
      "- numeric: min=0.0, max=1.0, mean=0.044\n",
      "Indexes:\n",
      "- \"train\", ['raw']: 300 samples\n",
      "- \"test\", ['raw']: 129 samples\u001b[0m\n",
      "regression\n",
      "classification\n",
      "binary\n"
     ]
    }
   ],
   "source": [
    "from sklearn.model_selection import ShuffleSplit\n",
    "from sklearn.preprocessing import MinMaxScaler\n",
    "from sklearn.cross_decomposition import PLSRegression\n",
    "\n",
    "from nirs4all.operators.transformations import Gaussian, SavitzkyGolay, StandardNormalVariate, Haar\n",
    "from nirs4all.pipeline.config import PipelineConfigs\n",
    "from nirs4all.dataset.dataset_config import DatasetConfigs\n",
    "from nirs4all.pipeline.runner import PipelineRunner\n",
    "import json\n",
    "\n",
    "pipeline = [\n",
    "    # Normalize the spectra reflectance\n",
    "    MinMaxScaler(feature_range=(0.1, 0.8)),\n",
    "\n",
    "    # Generate 10 version of feature augmentation combinations (3 elements with size 1 to 2, ie. [SG, [SNV, GS], Haar])\n",
    "    {\n",
    "        \"feature_augmentation\": {\n",
    "            \"_or_\": [\n",
    "                Gaussian, StandardNormalVariate, SavitzkyGolay, Haar,\n",
    "            ],\n",
    "            \"size\": [3, (1,2)],\n",
    "            \"count\": 2,\n",
    "        }\n",
    "    },\n",
    "\n",
    "    # Split the dataset in train and validation\n",
    "    ShuffleSplit(n_splits=3, test_size=.25),\n",
    "\n",
    "    # Normalize the y values\n",
    "    {\"y_processing\": MinMaxScaler()},\n",
    "\n",
    "    # PLS regression with 1 to 60 components\n",
    "    {\n",
    "        \"model\": PLSRegression(),\n",
    "        # \"model_params\": {\n",
    "        #     \"n_components\": {\n",
    "        #         \"_range_\": [1, 60],\n",
    "        #     }\n",
    "        # }\n",
    "    }\n",
    "]\n",
    "\n",
    "# create pipeline config\n",
    "config = PipelineConfigs(pipeline)\n",
    "\n",
    "# print(config.has_configurations)\n",
    "# print(config)\n",
    "# print(PipelineConfigs.value_of_str(config.steps, \"n_components\"))\n",
    "\n",
    "path = ['../../sample_data/regression', '../../sample_data/classification', '../../sample_data/binary']\n",
    "# # path = '../../sample_data/regression'\n",
    "dataset_config_obj = DatasetConfigs(path)\n",
    "\n",
    "runner = PipelineRunner()\n",
    "results = runner.run(config, dataset_config_obj)\n",
    "\n",
    "# print(f\"Pipeline execution completed! Got {len(results)} results\")\n",
    "# for i, (ds, hist, _) in enumerate(results):\n",
    "    # print(f\"Result {i+1}: {ds.name}\")"
   ]
  },
  {
   "cell_type": "code",
   "execution_count": null,
   "id": "fe592e44",
   "metadata": {},
   "outputs": [
    {
     "name": "stdout",
     "output_type": "stream",
     "text": [
      "⚠️ Dataset does not have data for train_group.\n",
      "⚠️ Dataset does not have data for test_group.\n",
      "========================================================================================================================================================================================================\n",
      "\u001b[94mLoading dataset:\u001b[0m\n",
      "--------------------------------------------------------------------------------------------------------------------------------------------------------------------------------------------------------\n",
      "⚠️ Dataset does not have data for train_group.\n",
      "⚠️ Dataset does not have data for test_group.\n",
      "\u001b[97m📊 Dataset: regression\n",
      "Features (samples=189, sources=1):\n",
      "- Source 0: (189, 1, 2151), processings=['raw'], min=-0.265, max=1.436, mean=0.466, var=0.149)\n",
      "Targets: (samples=189, targets=1, processings=['numeric'])\n",
      "- numeric: min=1.33, max=128.31, mean=30.779\n",
      "Indexes:\n",
      "- \"train\", ['raw']: 130 samples\n",
      "- \"test\", ['raw']: 59 samples\u001b[0m\n",
      "regression\n",
      "Pipeline execution completed! Got 0 results\n"
     ]
    }
   ],
   "source": []
  }
 ],
 "metadata": {
  "kernelspec": {
   "display_name": "Python 3",
   "language": "python",
   "name": "python3"
  },
  "language_info": {
   "codemirror_mode": {
    "name": "ipython",
    "version": 3
   },
   "file_extension": ".py",
   "mimetype": "text/x-python",
   "name": "python",
   "nbconvert_exporter": "python",
   "pygments_lexer": "ipython3",
   "version": "3.10.11"
  }
 },
 "nbformat": 4,
 "nbformat_minor": 5
}
