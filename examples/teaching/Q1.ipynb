{
 "cells": [
  {
   "cell_type": "code",
   "execution_count": null,
   "id": "364f7d9b",
   "metadata": {},
   "outputs": [
    {
     "name": "stdout",
     "output_type": "stream",
     "text": [
      "Configuration generates 600 configurations.\n"
     ]
    },
    {
     "ename": "AttributeError",
     "evalue": "'PipelineConfig' object has no attribute 'to_dict'",
     "output_type": "error",
     "traceback": [
      "\u001b[1;31m---------------------------------------------------------------------------\u001b[0m",
      "\u001b[1;31mAttributeError\u001b[0m                            Traceback (most recent call last)",
      "Cell \u001b[1;32mIn[5], line 47\u001b[0m\n\u001b[0;32m     16\u001b[0m pipeline \u001b[38;5;241m=\u001b[39m [\n\u001b[0;32m     17\u001b[0m     \u001b[38;5;66;03m# Normalize the spectra reflectance\u001b[39;00m\n\u001b[0;32m     18\u001b[0m     MinMaxScaler(feature_range\u001b[38;5;241m=\u001b[39m(\u001b[38;5;241m0.1\u001b[39m, \u001b[38;5;241m0.8\u001b[39m)),\n\u001b[1;32m   (...)\u001b[0m\n\u001b[0;32m     43\u001b[0m     }\n\u001b[0;32m     44\u001b[0m ]\n\u001b[0;32m     46\u001b[0m config \u001b[38;5;241m=\u001b[39m PipelineConfig(pipeline)\n\u001b[1;32m---> 47\u001b[0m \u001b[38;5;28mprint\u001b[39m(json\u001b[38;5;241m.\u001b[39mdumps(\u001b[43mconfig\u001b[49m\u001b[38;5;241;43m.\u001b[39;49m\u001b[43mto_dict\u001b[49m(), indent\u001b[38;5;241m=\u001b[39m\u001b[38;5;241m4\u001b[39m))\n",
      "\u001b[1;31mAttributeError\u001b[0m: 'PipelineConfig' object has no attribute 'to_dict'"
     ]
    }
   ],
   "source": [
    "from sklearn.model_selection import ShuffleSplit\n",
    "from sklearn.preprocessing import MinMaxScaler\n",
    "from sklearn.cross_decomposition import PLSRegression\n",
    "\n",
    "from nirs4all.operators.transformations import (\n",
    "    Gaussian as GS,\n",
    "    Rotate_Translate as RT,\n",
    "    SavitzkyGolay as SG,\n",
    "    StandardNormalVariate as SNV,\n",
    "    Haar\n",
    ")\n",
    "from nirs4all.pipeline.config import PipelineConfig\n",
    "\n",
    "import json\n",
    "\n",
    "pipeline = [\n",
    "    # Normalize the spectra reflectance\n",
    "    MinMaxScaler(feature_range=(0.1, 0.8)),\n",
    "\n",
    "    # Generate 1 combinations of feature augmentation\n",
    "    {\n",
    "        \"feature_augmentation\": {\n",
    "            \"_or_\": [\n",
    "                GS, SNV, SG, Haar,\n",
    "            ],\n",
    "            \"size\": [3, (1,2)],\n",
    "            \"count\": 10\n",
    "        }\n",
    "    },\n",
    "\n",
    "    # Split the dataset in train and validation\n",
    "    ShuffleSplit(n_splits=3, test_size=.25),\n",
    "\n",
    "    # Normalize the y values\n",
    "    {\"y_processing\": MinMaxScaler()},\n",
    "    {\n",
    "        \"model\": PLSRegression,\n",
    "        \"model_params\": {\n",
    "            \"n_components\": {\n",
    "                \"_range_\": [1, 60, 1],\n",
    "            }\n",
    "        }\n",
    "    }\n",
    "]\n",
    "\n",
    "config = PipelineConfig(pipeline)\n",
    "print(json.dumps(config.serializable_steps()[0], indent=4))\n"
   ]
  }
 ],
 "metadata": {
  "kernelspec": {
   "display_name": "Python 3",
   "language": "python",
   "name": "python3"
  },
  "language_info": {
   "codemirror_mode": {
    "name": "ipython",
    "version": 3
   },
   "file_extension": ".py",
   "mimetype": "text/x-python",
   "name": "python",
   "nbconvert_exporter": "python",
   "pygments_lexer": "ipython3",
   "version": "3.10.11"
  }
 },
 "nbformat": 4,
 "nbformat_minor": 5
}
