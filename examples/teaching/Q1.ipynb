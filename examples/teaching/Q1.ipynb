{
 "cells": [
  {
   "cell_type": "code",
   "execution_count": 2,
   "id": "64f89073",
   "metadata": {},
   "outputs": [],
   "source": [
    "%load_ext autoreload\n",
    "%autoreload 2\n",
    "%reset -f"
   ]
  },
  {
   "cell_type": "code",
   "execution_count": 3,
   "id": "364f7d9b",
   "metadata": {},
   "outputs": [
    {
     "name": "stdout",
     "output_type": "stream",
     "text": [
      "Configuration generates 600 configurations.\n"
     ]
    }
   ],
   "source": [
    "from sklearn.model_selection import ShuffleSplit\n",
    "from sklearn.preprocessing import MinMaxScaler\n",
    "from sklearn.cross_decomposition import PLSRegression\n",
    "\n",
    "from nirs4all.operators.transformations import Gaussian, SavitzkyGolay, StandardNormalVariate, Haar\n",
    "from nirs4all.pipeline.config import PipelineConfig\n",
    "import json\n",
    "\n",
    "pipeline = [\n",
    "    # Normalize the spectra reflectance\n",
    "    MinMaxScaler(feature_range=(0.1, 0.8)),\n",
    "\n",
    "    # Generate 10 version of feature augmentation combinations (3 elements with size 1 to 2, ie. [SG, [SNV, GS], Haar])\n",
    "    {\n",
    "        \"feature_augmentation\": {\n",
    "            \"_or_\": [\n",
    "                Gaussian, StandardNormalVariate, SavitzkyGolay, Haar,\n",
    "            ],\n",
    "            \"size\": [3, (1,2)],\n",
    "            \"count\": 10\n",
    "        }\n",
    "    },\n",
    "\n",
    "    # Split the dataset in train and validation\n",
    "    ShuffleSplit(n_splits=3, test_size=.25),\n",
    "\n",
    "    # Normalize the y values\n",
    "    {\"y_processing\": MinMaxScaler()},\n",
    "\n",
    "    # PLS regression with 1 to 60 components\n",
    "    {\n",
    "        \"model\": PLSRegression,\n",
    "        \"model_params\": {\n",
    "            \"n_components\": {\n",
    "                \"_range_\": [1, 60],\n",
    "            }\n",
    "        }\n",
    "    }\n",
    "]\n",
    "\n",
    "# create pipeline config\n",
    "config = PipelineConfig(pipeline)\n",
    "# print(PipelineConfig.value_of_str(config.steps, \"n_components\"))\n"
   ]
  },
  {
   "cell_type": "code",
   "execution_count": null,
   "id": "d70f43ac",
   "metadata": {},
   "outputs": [
    {
     "name": "stdout",
     "output_type": "stream",
     "text": [
      "⚠️ Dataset does not have data for train_group.\n",
      "⚠️ Dataset does not have data for test_group.\n",
      "========================================================================================================================================================================================================\n",
      "\u001b[94mLoading dataset:\u001b[0m\n",
      "--------------------------------------------------------------------------------------------------------------------------------------------------------------------------------------------------------\n",
      "⚠️ Dataset does not have data for train_group.\n",
      "⚠️ Dataset does not have data for test_group.\n",
      "\u001b[97m📊 Dataset: regression\n",
      "Features (samples=189, sources=1):\n",
      "- Source 0: (189, 1, 2151), processings=['raw'], min=-0.265, max=1.436, mean=0.466, var=0.149)\n",
      "Targets: (samples=189, targets=1, processings=['numeric'])\n",
      "- numeric: min=1.33, max=128.31, mean=30.779\n",
      "Indexes:\n",
      "- \"train\", ['raw']: 130 samples\n",
      "- \"test\", ['raw']: 59 samples\u001b[0m\n",
      ">>>>>>Loaded dataset: regression\n"
     ]
    }
   ],
   "source": [
    "# Load dataset using DatasetConfig\n",
    "from nirs4all.dataset.dataset_config import DatasetConfig\n",
    "\n",
    "# Example dataset configuration using folder browsing\n",
    "# dataset_config = ['../../sample_data/regression', '../../sample_data/classification', '../../sample_data/binary']\n",
    "dataset_config = '../../sample_data/regression'\n",
    "\n",
    "# Create DatasetConfig and load dataset\n",
    "dataset_config_obj = DatasetConfig(dataset_config)\n",
    "dataset = dataset_config_obj.get_datasets()\n",
    "\n",
    "for d in dataset:\n",
    "    print(f\">> Loaded dataset: {d.name}\")"
   ]
  }
 ],
 "metadata": {
  "kernelspec": {
   "display_name": "Python 3",
   "language": "python",
   "name": "python3"
  },
  "language_info": {
   "codemirror_mode": {
    "name": "ipython",
    "version": 3
   },
   "file_extension": ".py",
   "mimetype": "text/x-python",
   "name": "python",
   "nbconvert_exporter": "python",
   "pygments_lexer": "ipython3",
   "version": "3.10.11"
  }
 },
 "nbformat": 4,
 "nbformat_minor": 5
}
