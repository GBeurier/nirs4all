{
 "cells": [
  {
   "cell_type": "code",
   "execution_count": null,
   "id": "7229fa52",
   "metadata": {},
   "outputs": [],
   "source": [
    "\n",
    "from sklearn.ensemble import RandomForestClassifier\n",
    "from sklearn.preprocessing import MinMaxScaler\n",
    "from sklearn.model_selection import ShuffleSplit\n",
    "\n",
    "from nirs4all.dataset import DatasetConfigs\n",
    "from nirs4all.operators.transformations import *\n",
    "from nirs4all.pipeline import PipelineConfigs, PipelineRunner\n",
    "\n",
    "x_scaler = MinMaxScaler() # StandardScaler(), RobustScaler(), QuantileTransformer(), PowerTransformer(), LogTransform()\n",
    "list_of_preprocessors = [ Detrend, FirstDerivative, SecondDerivative, Gaussian, StandardNormalVariate, SavitzkyGolay, Haar, MultiplicativeScatterCorrection]\n",
    "splitting_strategy = ShuffleSplit(n_splits=3, test_size=.25)\n",
    "dataset_folder = '../../sample_data/classification'\n",
    "\n",
    "pipeline = [\n",
    "    \"chart_2d\",\n",
    "    x_scaler,\n",
    "    \"chart_3d\",\n",
    "    {\"feature_augmentation\": { \"_or_\": list_of_preprocessors, \"size\":[1,(1,2)], \"count\":5 }}, # Generate all elements of size 1 and of order 1 or 2 (ie. \"Gaussian\", [\"SavitzkyGolay\", \"Log\"], etc.)\n",
    "    splitting_strategy,\n",
    "]\n",
    "\n",
    "for i in range(5, 20, 5):\n",
    "    model = {\n",
    "        \"name\": f\"RF-depth-{i}\",\n",
    "        \"model\": RandomForestClassifier(max_depth=i)\n",
    "    }\n",
    "    pipeline.append(model)\n",
    "\n",
    "pipeline_config = PipelineConfigs(pipeline, \"pipeline_Q1\")\n",
    "dataset_config = DatasetConfigs(dataset_folder)\n",
    "\n",
    "# Create pipeline\n",
    "runner = PipelineRunner(save_files=False)\n",
    "run_predictions, other_predictions = runner.run(pipeline_config, dataset_config)"
   ]
  },
  {
   "cell_type": "code",
   "execution_count": null,
   "id": "2869aa17",
   "metadata": {},
   "outputs": [],
   "source": [
    "import numpy as np\n",
    "from nirs4all.dataset.prediction_analyzer import PredictionAnalyzer\n",
    "\n",
    "analyzer = PredictionAnalyzer(run_predictions)\n",
    "\n",
    "top_5 = analyzer.get_top_k(5, 'accuracy')\n",
    "for i, model in enumerate(top_5, 1):\n",
    "    # Use enhanced_model_name which includes custom names when available\n",
    "    enhanced_name = model.get('enhanced_model_name', model.get('real_model', 'unknown'))\n",
    "    # canonical_name = model.get('canonical_model', 'unknown')\n",
    "    pipeline_path = model.get('path', '')\n",
    "\n",
    "    # Extract config ID from pipeline path or key\n",
    "    config_id = \"unknown\"\n",
    "    if 'config_' in pipeline_path:\n",
    "        config_part = pipeline_path.split('config_')[1].split('/')[0] if '/' in pipeline_path else pipeline_path.split('config_')[1]\n",
    "        config_id = f\"config_{config_part}\"\n",
    "\n",
    "    print(f\"{i}. {enhanced_name} - {config_id} - Accuracy: {model['metrics']['accuracy']:.6f}, F1: {model['metrics']['f1']:.6f}, Precision: {model['metrics']['precision']:.6f}, Recall: {model['metrics']['recall']:.6f}\")\n",
    "\n",
    "# Plot top_k comparison with enhanced names in titles\n",
    "fig = analyzer.plot_top_k_confusionMatrix(k=3, metric='accuracy', partition_type='test')\n",
    "plt.show()"
   ]
  }
 ],
 "metadata": {
  "kernelspec": {
   "display_name": "Python 3",
   "language": "python",
   "name": "python3"
  },
  "language_info": {
   "codemirror_mode": {
    "name": "ipython",
    "version": 3
   },
   "file_extension": ".py",
   "mimetype": "text/x-python",
   "name": "python",
   "nbconvert_exporter": "python",
   "pygments_lexer": "ipython3",
   "version": "3.10.11"
  }
 },
 "nbformat": 4,
 "nbformat_minor": 5
}
