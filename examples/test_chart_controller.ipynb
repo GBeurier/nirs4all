{
 "cells": [
  {
   "cell_type": "markdown",
   "id": "a75e2a2a",
   "metadata": {},
   "source": [
    "# Test Chart Controller\n",
    "\n",
    "This notebook demonstrates the updated chart controller with improved legends and synthetic titles."
   ]
  },
  {
   "cell_type": "code",
   "execution_count": null,
   "id": "5def36b7",
   "metadata": {},
   "outputs": [],
   "source": [
    "%load_ext autoreload\n",
    "%autoreload 2\n",
    "\n",
    "import numpy as np\n",
    "import matplotlib.pyplot as plt\n",
    "from nirs4all.dataset.dataset import SpectroDataset\n",
    "from nirs4all.controllers.chart.op_spectra_charts import SpectraChartController\n",
    "\n",
    "# Create sample dataset\n",
    "print(\"Creating sample dataset...\")\n",
    "dataset = SpectroDataset(\"test_charts\")\n",
    "\n",
    "# Add sample data\n",
    "np.random.seed(42)\n",
    "n_samples = 20\n",
    "n_features = 50\n",
    "\n",
    "# Create synthetic spectral data\n",
    "raw_data = np.random.randn(n_samples, n_features) + 5\n",
    "dataset.add_samples(raw_data)\n",
    "\n",
    "# Add some processed data\n",
    "savgol_data = raw_data * 0.9 + np.random.randn(n_samples, n_features) * 0.1\n",
    "msc_data = raw_data * 1.1 + np.random.randn(n_samples, n_features) * 0.05\n",
    "\n",
    "dataset.add_features([savgol_data, msc_data], [\"savgol\", \"msc\"])\n",
    "\n",
    "# Add target values\n",
    "y_values = np.random.randn(n_samples) * 2 + 10\n",
    "dataset.add_targets(y_values)\n",
    "\n",
    "print(\"Dataset created:\")\n",
    "print(dataset)"
   ]
  },
  {
   "cell_type": "code",
   "execution_count": null,
   "id": "6ffe81b5",
   "metadata": {},
   "outputs": [],
   "source": [
    "# Test 2D chart with new legends and titles\n",
    "print(\"Testing 2D chart...\")\n",
    "\n",
    "controller = SpectraChartController()\n",
    "context_2d = {\"keyword\": \"chart_2d\"}\n",
    "\n",
    "# Mock the step parameter\n",
    "context_result, img_list = controller.execute(\n",
    "    \"chart_2d\",  # step parameter\n",
    "    None,        # operator parameter\n",
    "    dataset,     # dataset\n",
    "    context_2d,  # context\n",
    "    None         # runner (mock)\n",
    ")\n",
    "\n",
    "print(f\"Generated {len(img_list)} 2D plots\")\n",
    "for i, img_info in enumerate(img_list):\n",
    "    print(f\"Plot {i+1}: {img_info['plot_type']} - {img_info['title']}\")\n",
    "    print(f\"  Samples: {img_info['n_samples']}, Features: {img_info['n_features']}\")"
   ]
  },
  {
   "cell_type": "code",
   "execution_count": null,
   "id": "ad920a08",
   "metadata": {},
   "outputs": [],
   "source": [
    "# Test 3D chart with new legends and titles\n",
    "print(\"Testing 3D chart...\")\n",
    "\n",
    "context_3d = {\"keyword\": \"chart_3d\"}\n",
    "\n",
    "context_result, img_list = controller.execute(\n",
    "    \"chart_3d\",  # step parameter\n",
    "    None,        # operator parameter\n",
    "    dataset,     # dataset\n",
    "    context_3d,  # context\n",
    "    None         # runner (mock)\n",
    ")\n",
    "\n",
    "print(f\"Generated {len(img_list)} 3D plots\")\n",
    "for i, img_info in enumerate(img_list):\n",
    "    print(f\"Plot {i+1}: {img_info['plot_type']} - {img_info['title']}\")\n",
    "    print(f\"  Samples: {img_info['n_samples']}, Features: {img_info['n_features']}\")"
   ]
  },
  {
   "cell_type": "code",
   "execution_count": null,
   "id": "48486d77",
   "metadata": {},
   "outputs": [],
   "source": [
    "# Show the difference in titles\n",
    "print(\"Chart controller updates:\")\n",
    "print(\"✓ Changed 'Target Values' → 'y' in colorbar\")\n",
    "print(\"✓ Changed 'Feature Index (Wavelength)' → 'x (features)'\")\n",
    "print(\"✓ Changed 'Spectral Intensity' → 'Intensity'\")\n",
    "print(\"✓ Changed 'Target Values (sorted)' → 'y (sorted)' in 3D\")\n",
    "print(\"✓ Made titles synthetic: 'proc_X | src:Y | n:Z | f:W'\")\n",
    "print(\"✓ Made titles smaller with fontsize=10\")\n",
    "print()\n",
    "print(\"New title format: processing | source:idx | n:samples | f:features\")\n",
    "print(\"Example: 'proc_0 | src:0 | n:20 | f:50'\")"
   ]
  }
 ],
 "metadata": {
  "language_info": {
   "name": "python"
  }
 },
 "nbformat": 4,
 "nbformat_minor": 5
}
