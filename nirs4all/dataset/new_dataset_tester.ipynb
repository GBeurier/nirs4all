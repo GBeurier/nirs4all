{
 "cells": [
  {
   "cell_type": "code",
   "execution_count": null,
   "id": "a7d9d783",
   "metadata": {},
   "outputs": [],
   "source": [
    "%load_ext autoreload\n",
    "%autoreload 2"
   ]
  },
  {
   "cell_type": "code",
   "execution_count": null,
   "id": "5eda7c60",
   "metadata": {},
   "outputs": [
    {
     "ename": "TypeError",
     "evalue": "SpectraDataset.__init__() got an unexpected keyword argument 'index'",
     "output_type": "error",
     "traceback": [
      "\u001b[1;31m---------------------------------------------------------------------------\u001b[0m",
      "\u001b[1;31mTypeError\u001b[0m                                 Traceback (most recent call last)",
      "Cell \u001b[1;32mIn[5], line 20\u001b[0m\n\u001b[0;32m      8\u001b[0m \u001b[38;5;66;03m# ── fake minimal dataset ─────────────────────────────────────────────────────\u001b[39;00m\n\u001b[0;32m      9\u001b[0m index \u001b[38;5;241m=\u001b[39m pl\u001b[38;5;241m.\u001b[39mDataFrame(\n\u001b[0;32m     10\u001b[0m     {\n\u001b[0;32m     11\u001b[0m         \u001b[38;5;124m\"\u001b[39m\u001b[38;5;124mrow\u001b[39m\u001b[38;5;124m\"\u001b[39m: [\u001b[38;5;241m0\u001b[39m, \u001b[38;5;241m1\u001b[39m],\n\u001b[1;32m   (...)\u001b[0m\n\u001b[0;32m     18\u001b[0m     }\n\u001b[0;32m     19\u001b[0m )\n\u001b[1;32m---> 20\u001b[0m ds \u001b[38;5;241m=\u001b[39m \u001b[43mSpectraDataset\u001b[49m\u001b[43m(\u001b[49m\n\u001b[0;32m     21\u001b[0m \u001b[43m    \u001b[49m\u001b[43mindex\u001b[49m\u001b[38;5;241;43m=\u001b[39;49m\u001b[43mIndexFrame\u001b[49m\u001b[43m(\u001b[49m\u001b[43mindex\u001b[49m\u001b[43m)\u001b[49m\u001b[43m,\u001b[49m\n\u001b[0;32m     22\u001b[0m \u001b[43m    \u001b[49m\u001b[43mstore\u001b[49m\u001b[38;5;241;43m=\u001b[39;49m\u001b[43mFeatureStore\u001b[49m\u001b[43m(\u001b[49m\u001b[43m)\u001b[49m\u001b[43m,\u001b[49m\n\u001b[0;32m     23\u001b[0m \u001b[43m    \u001b[49m\u001b[43mprocessing\u001b[49m\u001b[38;5;241;43m=\u001b[39;49m\u001b[43mProcessingRegistry\u001b[49m\u001b[43m(\u001b[49m\u001b[43m)\u001b[49m\u001b[43m,\u001b[49m\n\u001b[0;32m     24\u001b[0m \u001b[43m)\u001b[49m\n\u001b[0;32m     25\u001b[0m \u001b[38;5;66;03m# add one block for proc 100\u001b[39;00m\n\u001b[0;32m     26\u001b[0m src_id \u001b[38;5;241m=\u001b[39m ds\u001b[38;5;241m.\u001b[39madd_block(np\u001b[38;5;241m.\u001b[39mzeros((\u001b[38;5;241m2\u001b[39m, \u001b[38;5;241m3\u001b[39m), np\u001b[38;5;241m.\u001b[39mfloat32), processing_id\u001b[38;5;241m=\u001b[39m\u001b[38;5;241m100\u001b[39m, n_users\u001b[38;5;241m=\u001b[39m\u001b[38;5;241m2\u001b[39m)\n",
      "\u001b[1;31mTypeError\u001b[0m: SpectraDataset.__init__() got an unexpected keyword argument 'index'"
     ]
    }
   ],
   "source": [
    "\n",
    "\n",
    "from core.store import FeatureStore\n",
    "from SpectraDataset import SpectraDataset\n",
    "import polars as pl\n",
    "import numpy as np\n",
    "from index.frame import IndexFrame\n",
    "from processing import ProcessingRegistry\n",
    "\n",
    "# ── fake minimal dataset ─────────────────────────────────────────────────────\n",
    "index = pl.DataFrame(\n",
    "    {\n",
    "        \"row\": [0, 1],\n",
    "        \"sample\": [0, 1],\n",
    "        \"origin\": [0, 0],\n",
    "        \"partition\": [\"train\",\"train\"],\n",
    "        \"group\": [\"A\",\"A\"],\n",
    "        \"branch\": [\"main\",\"main\"],\n",
    "        \"processing\": [100, 100],\n",
    "    }\n",
    ")\n",
    "ds = SpectraDataset(\n",
    "    index=IndexFrame(index),\n",
    "    store=FeatureStore(),\n",
    "    processing=ProcessingRegistry(),\n",
    ")\n",
    "# add one block for proc 100\n",
    "src_id = ds.add_block(np.zeros((2, 3), np.float32), processing_id=100, n_users=2)\n",
    "\n",
    "assert ds.store._refcounts[100] == 2\n",
    "\n",
    "# duplicate one row twice → +2 refs\n",
    "ds.duplicate_rows([0], 2)\n",
    "assert ds.store._refcounts[100] == 4\n",
    "\n",
    "# move three rows to proc 200 → 100 loses 3 refs, 200 gains 3\n",
    "ds.set_processing(pl.col(\"row\") < 3, new_processing_id=200)\n",
    "assert ds.store._refcounts[100] == 1\n",
    "assert ds.store._refcounts[200] == 3\n"
   ]
  }
 ],
 "metadata": {
  "kernelspec": {
   "display_name": ".venv",
   "language": "python",
   "name": "python3"
  },
  "language_info": {
   "codemirror_mode": {
    "name": "ipython",
    "version": 3
   },
   "file_extension": ".py",
   "mimetype": "text/x-python",
   "name": "python",
   "nbconvert_exporter": "python",
   "pygments_lexer": "ipython3",
   "version": "3.10.11"
  }
 },
 "nbformat": 4,
 "nbformat_minor": 5
}
