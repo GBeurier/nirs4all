{
 "cells": [
  {
   "cell_type": "code",
   "execution_count": null,
   "id": "f6adda9c",
   "metadata": {},
   "outputs": [],
   "source": [
    "import pandas as pd\n",
    "from sklearn.model_selection import train_test_split\n",
    "\n",
    "# Load data\n",
    "x_file = \"Xval.csv\"\n",
    "y_file = \"Yval.csv\"\n",
    "X = pd.read_csv(f\"classification/{x_file}\")\n",
    "Y = pd.read_csv(f\"classification/{y_file}\")\n",
    "\n",
    "# Make sure lengths match\n",
    "assert len(X) == len(Y), \"X and Y must have the same number of samples\"\n",
    "\n",
    "# Merge X and Y for stratified sampling\n",
    "data = X.copy()\n",
    "data['label'] = Y.values  # Assuming Y is a single column\n",
    "\n",
    "# Set subsample fraction\n",
    "fraction = 0.1  # e.g., keep 10% of each class\n",
    "\n",
    "# Stratified sampling\n",
    "_, data_sub = train_test_split(\n",
    "    data,\n",
    "    test_size=fraction,\n",
    "    stratify=data['label'],\n",
    "    random_state=42\n",
    ")       \n",
    "\n",
    "# Split X and Y again\n",
    "X_sub = data_sub.drop(columns='label').reset_index(drop=True)\n",
    "Y_sub = data_sub['label'].reset_index(drop=True)\n",
    "\n",
    "# Save to CSV\n",
    "X_sub.to_csv(x_file, index=False)\n",
    "Y_sub.to_csv(y_file, index=False)\n"
   ]
  }
 ],
 "metadata": {
  "kernelspec": {
   "display_name": "nirs4all_env",
   "language": "python",
   "name": "python3"
  },
  "language_info": {
   "codemirror_mode": {
    "name": "ipython",
    "version": 3
   },
   "file_extension": ".py",
   "mimetype": "text/x-python",
   "name": "python",
   "nbconvert_exporter": "python",
   "pygments_lexer": "ipython3",
   "version": "3.10.11"
  }
 },
 "nbformat": 4,
 "nbformat_minor": 5
}
